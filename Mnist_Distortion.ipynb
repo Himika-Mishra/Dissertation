{
  "nbformat": 4,
  "nbformat_minor": 0,
  "metadata": {
    "colab": {
      "provenance": [],
      "authorship_tag": "ABX9TyNni+46AkWip4U/wtrJu+PK",
      "include_colab_link": true
    },
    "kernelspec": {
      "name": "python3",
      "display_name": "Python 3"
    },
    "language_info": {
      "name": "python"
    }
  },
  "cells": [
    {
      "cell_type": "markdown",
      "metadata": {
        "id": "view-in-github",
        "colab_type": "text"
      },
      "source": [
        "<a href=\"https://colab.research.google.com/github/Himika-Mishra/Dissertation/blob/main/Mnist_Distortion.ipynb\" target=\"_parent\"><img src=\"https://colab.research.google.com/assets/colab-badge.svg\" alt=\"Open In Colab\"/></a>"
      ]
    },
    {
      "cell_type": "code",
      "execution_count": 1,
      "metadata": {
        "id": "dIZcCompQkcK"
      },
      "outputs": [],
      "source": [
        "import numpy as np\n",
        "import pandas as pd\n",
        "from keras.datasets import mnist\n",
        "from keras.models import Sequential\n",
        "from keras.layers import Dense\n",
        "from keras.utils import to_categorical\n",
        "from sklearn.metrics import confusion_matrix\n",
        "from sklearn.metrics import classification_report\n",
        "from sklearn.neural_network import MLPClassifier\n",
        "from sklearn.metrics import accuracy_score\n",
        "import matplotlib.pyplot as plt\n",
        "from skimage.util import random_noise\n",
        "from tqdm import tqdm\n",
        "import random"
      ]
    },
    {
      "cell_type": "code",
      "source": [
        "# Load the MNIST dataset\n",
        "(x_train, y_train), (x_test, y_test) = mnist.load_data()"
      ],
      "metadata": {
        "colab": {
          "base_uri": "https://localhost:8080/"
        },
        "id": "6my34WInQm_0",
        "outputId": "2fcfde38-8781-4ec8-f51e-bfb809b9e9d6"
      },
      "execution_count": 2,
      "outputs": [
        {
          "output_type": "stream",
          "name": "stdout",
          "text": [
            "Downloading data from https://storage.googleapis.com/tensorflow/tf-keras-datasets/mnist.npz\n",
            "11490434/11490434 [==============================] - 0s 0us/step\n"
          ]
        }
      ]
    },
    {
      "cell_type": "code",
      "source": [
        "# Flatten the images and normalize the pixel values to [0, 1]\n",
        "x_train = x_train.reshape((60000, 28 * 28)).astype('float32') / 255\n",
        "x_test = x_test.reshape((10000, 28 * 28)).astype('float32') / 255"
      ],
      "metadata": {
        "id": "RriXXs9_QqTX"
      },
      "execution_count": 3,
      "outputs": []
    },
    {
      "cell_type": "code",
      "source": [
        "# Append the target arrays\n",
        "y = np.concatenate((y_train, y_test))"
      ],
      "metadata": {
        "id": "lrhSQwC4Qs-6"
      },
      "execution_count": 4,
      "outputs": []
    },
    {
      "cell_type": "code",
      "source": [
        "# One-hot encode the target arrays\n",
        "num_classes = 10\n",
        "y_onehot = np.eye(num_classes)[y]"
      ],
      "metadata": {
        "id": "ATYFlOdMQwOd"
      },
      "execution_count": 5,
      "outputs": []
    },
    {
      "cell_type": "code",
      "source": [
        "# Splitting the encoded labels into train and test\n",
        "y_train = y_onehot[:60000]\n",
        "y_test = y_onehot[-10000:]"
      ],
      "metadata": {
        "id": "we27lNm8Qzm-"
      },
      "execution_count": 6,
      "outputs": []
    },
    {
      "cell_type": "code",
      "source": [
        "# Function to distort the images 90%\n",
        "def distort_images(images, distortion_level):\n",
        "    distorted_images = []\n",
        "    for image in tqdm(images):\n",
        "        distorted_image = random_noise(image, var=distortion_level)\n",
        "        distorted_images.append(distorted_image)\n",
        "    return distorted_images"
      ],
      "metadata": {
        "id": "X_myymprQ2VA"
      },
      "execution_count": 8,
      "outputs": []
    },
    {
      "cell_type": "code",
      "source": [
        "# Distort the training images\n",
        "distorted_train_images = distort_images(x_train, 0.9)\n",
        "\n",
        "# Distort the test images\n",
        "distorted_test_images = distort_images(x_test, 0.9)"
      ],
      "metadata": {
        "colab": {
          "base_uri": "https://localhost:8080/"
        },
        "id": "EdP0uIRXRMow",
        "outputId": "8251b453-6ff4-41b4-ba54-8b17b340c6ce"
      },
      "execution_count": 9,
      "outputs": [
        {
          "output_type": "stream",
          "name": "stderr",
          "text": [
            "100%|██████████| 60000/60000 [00:10<00:00, 5699.09it/s]\n",
            "100%|██████████| 10000/10000 [00:01<00:00, 6176.39it/s]\n"
          ]
        }
      ]
    },
    {
      "cell_type": "code",
      "source": [
        "# Create a dataframe to store the distorted images\n",
        "x_train_distorted = pd.DataFrame()\n",
        "x_train_distorted = distorted_train_images + distorted_test_images"
      ],
      "metadata": {
        "id": "8nLZke8-RTZh"
      },
      "execution_count": 12,
      "outputs": []
    },
    {
      "cell_type": "code",
      "source": [
        "# Create a dataframe of array of zeroes as labels for above distorted images\n",
        "y_train_distorted = np.zeros((70000, 10))"
      ],
      "metadata": {
        "id": "lo2CSq5QRmAV"
      },
      "execution_count": 13,
      "outputs": []
    },
    {
      "cell_type": "code",
      "source": [
        "# Select 5 random indices\n",
        "random_indices = random.sample(range(len(x_train_distorted)), 5)\n",
        "\n",
        "# Retrieve the distorted images and labels at the selected indices\n",
        "distorted_images = [x_train_distorted[i] if i < len(distorted_train_images) else distorted_test_images[i - len(distorted_train_images)] for i in random_indices]\n",
        "labels = [y_train_distorted for i in random_indices]\n",
        "\n",
        "# Display the distorted images\n",
        "for i in range(5):\n",
        "    image = distorted_images[i]\n",
        "    label = labels[i]\n",
        "    \n",
        "    # Reshape the image back to its original shape (assuming it was flattened)\n",
        "    image = image.reshape(28, 28)\n",
        "    \n",
        "    # Plot the image\n",
        "    plt.subplot(1, 5, i+1)\n",
        "    plt.imshow(image, cmap='gray')\n",
        "    plt.title(f'Label: {label}')\n",
        "    plt.axis('off')\n",
        "\n",
        "# Adjust the layout and display the plot\n",
        "plt.tight_layout()\n",
        "plt.show()"
      ],
      "metadata": {
        "colab": {
          "base_uri": "https://localhost:8080/",
          "height": 294
        },
        "id": "VqxQckLpS2UP",
        "outputId": "b15afd46-23c4-4dfc-f354-4ea5d36ae42f"
      },
      "execution_count": 17,
      "outputs": [
        {
          "output_type": "display_data",
          "data": {
            "text/plain": [
              "<Figure size 640x480 with 5 Axes>"
            ],
            "image/png": "[encoded data removed]"
          },
          "metadata": {}
        }
      ]
    },
    {
      "cell_type": "code",
      "source": [
        "# Initialize the merged train dataframe\n",
        "merged_x_train = pd.DataFrame()"
      ],
      "metadata": {
        "id": "Bh-nUom5TXHS"
      },
      "execution_count": 18,
      "outputs": []
    },
    {
      "cell_type": "code",
      "source": [
        "# Define the ratio of distorted images to select\n",
        "ratios = np.arange(0.1, 1.1, 0.1)"
      ],
      "metadata": {
        "id": "KIXTMi6YX0n4"
      },
      "execution_count": 19,
      "outputs": []
    },
    {
      "cell_type": "code",
      "source": [
        "# Convert the distorted train data from list and ndarray to DataFrame\n",
        "x_train = pd.DataFrame(x_train)\n",
        "y_train = pd.DataFrame(y_train)\n",
        "x_train_distorted = pd.DataFrame(x_train_distorted)\n",
        "y_train_distorted = pd.DataFrame(y_train_distorted)"
      ],
      "metadata": {
        "id": "nqSHcmIDZv7M"
      },
      "execution_count": 28,
      "outputs": []
    },
    {
      "cell_type": "code",
      "source": [
        "# Iterate over the ratios\n",
        "for ratio in ratios:\n",
        "    # Calculate the number of distorted images to select based on the ratio\n",
        "    num_distorted = int(len(x_train_distorted) * ratio)\n",
        "\n",
        "    # Randomly select the specified number of distorted images\n",
        "    selected_distorted_images = x_train_distorted.sample(n=num_distorted, random_state=42)\n",
        "    selected_distorted_labels = y_train_distorted.sample(n=num_distorted, random_state=42)\n",
        "\n",
        "    # Concatenate the selected distorted images with the original train dataframe\n",
        "    merged_x_train = pd.concat([x_train, selected_distorted_images])\n",
        "    merged_y_train = pd.concat([y_train, selected_distorted_labels])\n",
        "\n",
        "    # Train and evaluate the model \n",
        "    # Fit a regular MLP classifier\n",
        "    mlp = MLPClassifier(hidden_layer_sizes=(10,8), activation='relu', solver='adam', max_iter=500)\n",
        "    mlp.fit(merged_x_train, merged_y_train)\n",
        "    # Accuracy Score\n",
        "    test_acc = mlp.score(merged_x_train, merged_y_train)\n",
        "    # print(mlp.score(merged_x_train, merged_y_train))\n",
        "    print(f\"Test accuracy with original_ratio={ratio}: {test_acc}\")\n",
        "\n",
        "    # predictions\n",
        "    pred = mlp.predict(x_test)\n",
        "    print(confusion_matrix(y_test.argmax(axis=1), pred.argmax(axis=1)))\n",
        "    print(classification_report(y_test.argmax(axis=1), pred.argmax(axis=1)))\n",
        "    print(\"--------------------------------------------------\")\n"
      ],
      "metadata": {
        "colab": {
          "base_uri": "https://localhost:8080/"
        },
        "id": "T5V30l3uX6Pe",
        "outputId": "897fbe84-7898-480a-ad23-c64451de6634"
      },
      "execution_count": 29,
      "outputs": [
        {
          "output_type": "stream",
          "name": "stdout",
          "text": [
            "Test accuracy with original_ratio=0.1: 0.9457164179104478\n",
            "[[ 965    0    4    0    2    1    3    3    2    0]\n",
            " [  17 1093    3    3    0    3    1    1   14    0]\n",
            " [  51    2  924    9    7    1    4    9   25    0]\n",
            " [  60    1   16  884    2   13    2    7   24    1]\n",
            " [  23    0    1    0  923    1    7    1    2   24]\n",
            " [  58    1    0   26    1  774   12    2   15    3]\n",
            " [  23    3    2    0    4   10  906    0   10    0]\n",
            " [  33    4   20    2    3    0    0  951    1   14]\n",
            " [  45    5    2    4   11    8   13    2  880    4]\n",
            " [  36    1    0    8   26    3    0    9   24  902]]\n",
            "              precision    recall  f1-score   support\n",
            "\n",
            "           0       0.74      0.98      0.84       980\n",
            "           1       0.98      0.96      0.97      1135\n",
            "           2       0.95      0.90      0.92      1032\n",
            "           3       0.94      0.88      0.91      1010\n",
            "           4       0.94      0.94      0.94       982\n",
            "           5       0.95      0.87      0.91       892\n",
            "           6       0.96      0.95      0.95       958\n",
            "           7       0.97      0.93      0.94      1028\n",
            "           8       0.88      0.90      0.89       974\n",
            "           9       0.95      0.89      0.92      1009\n",
            "\n",
            "    accuracy                           0.92     10000\n",
            "   macro avg       0.93      0.92      0.92     10000\n",
            "weighted avg       0.93      0.92      0.92     10000\n",
            "\n",
            "--------------------------------------------------\n",
            "Test accuracy with original_ratio=0.2: 0.9598108108108108\n",
            "[[ 969    0    2    0    0    0    1    2    2    4]\n",
            " [  13 1107    2    3    1    1    2    1    5    0]\n",
            " [  36    6  940   10    7    1    8    7   14    3]\n",
            " [  25    0   26  916    1   15    2    5   15    5]\n",
            " [  25    0    3    0  911    1   11    3    4   24]\n",
            " [  39    1    3   22    1  799   12    1    9    5]\n",
            " [  26    2    9    0    5   13  899    0    4    0]\n",
            " [  31    6   18    6   10    1    0  943    1   12]\n",
            " [  43    9    6   17    6   17   10    5  852    9]\n",
            " [  24    5    0    9   29   11    1   12   10  908]]\n",
            "              precision    recall  f1-score   support\n",
            "\n",
            "           0       0.79      0.99      0.88       980\n",
            "           1       0.97      0.98      0.97      1135\n",
            "           2       0.93      0.91      0.92      1032\n",
            "           3       0.93      0.91      0.92      1010\n",
            "           4       0.94      0.93      0.93       982\n",
            "           5       0.93      0.90      0.91       892\n",
            "           6       0.95      0.94      0.94       958\n",
            "           7       0.96      0.92      0.94      1028\n",
            "           8       0.93      0.87      0.90       974\n",
            "           9       0.94      0.90      0.92      1009\n",
            "\n",
            "    accuracy                           0.92     10000\n",
            "   macro avg       0.93      0.92      0.92     10000\n",
            "weighted avg       0.93      0.92      0.92     10000\n",
            "\n",
            "--------------------------------------------------\n",
            "Test accuracy with original_ratio=0.30000000000000004: 0.9477654320987654\n",
            "[[ 973    0    1    1    1    1    1    1    1    0]\n",
            " [  18 1099    6    2    1    1    2    1    5    0]\n",
            " [  56    6  922   17    3    3    4   12    9    0]\n",
            " [  48    6   13  913    0    8    0    7   12    3]\n",
            " [  29    6    0    0  919    1    4    4    3   16]\n",
            " [  59    0    2   13    7  780    5    2   16    8]\n",
            " [  42    6    4    0   12   11  880    0    3    0]\n",
            " [  40    7   10    6    5    0    0  947    2   11]\n",
            " [  86    4    4   13    5   19    7    3  828    5]\n",
            " [  49    0    0    2   22    5    1    8    9  913]]\n",
            "              precision    recall  f1-score   support\n",
            "\n",
            "           0       0.69      0.99      0.82       980\n",
            "           1       0.97      0.97      0.97      1135\n",
            "           2       0.96      0.89      0.92      1032\n",
            "           3       0.94      0.90      0.92      1010\n",
            "           4       0.94      0.94      0.94       982\n",
            "           5       0.94      0.87      0.91       892\n",
            "           6       0.97      0.92      0.95       958\n",
            "           7       0.96      0.92      0.94      1028\n",
            "           8       0.93      0.85      0.89       974\n",
            "           9       0.96      0.90      0.93      1009\n",
            "\n",
            "    accuracy                           0.92     10000\n",
            "   macro avg       0.93      0.92      0.92     10000\n",
            "weighted avg       0.93      0.92      0.92     10000\n",
            "\n",
            "--------------------------------------------------\n",
            "Test accuracy with original_ratio=0.4: 0.9478636363636364\n",
            "[[ 963    0    1    0    1    4    7    2    1    1]\n",
            " [  16 1105    4    3    0    1    2    0    3    1]\n",
            " [  57    6  930    9    4    2    7    8    5    4]\n",
            " [  71    1   14  877    0   29    5    7    6    0]\n",
            " [  53    4    2    0  881    2   10    3    1   26]\n",
            " [  27    5    3   13    6  811    9    5   10    3]\n",
            " [  32    2    7    0    4   11  899    0    3    0]\n",
            " [  38    6   19   10    6    2    0  927    1   19]\n",
            " [  87   11    8    7    5   22   12    3  812    7]\n",
            " [  57    3    3    6   17    6    0   23   12  882]]\n",
            "              precision    recall  f1-score   support\n",
            "\n",
            "           0       0.69      0.98      0.81       980\n",
            "           1       0.97      0.97      0.97      1135\n",
            "           2       0.94      0.90      0.92      1032\n",
            "           3       0.95      0.87      0.91      1010\n",
            "           4       0.95      0.90      0.92       982\n",
            "           5       0.91      0.91      0.91       892\n",
            "           6       0.95      0.94      0.94       958\n",
            "           7       0.95      0.90      0.92      1028\n",
            "           8       0.95      0.83      0.89       974\n",
            "           9       0.94      0.87      0.90      1009\n",
            "\n",
            "    accuracy                           0.91     10000\n",
            "   macro avg       0.92      0.91      0.91     10000\n",
            "weighted avg       0.92      0.91      0.91     10000\n",
            "\n",
            "--------------------------------------------------\n",
            "Test accuracy with original_ratio=0.5: 0.9500421052631579\n",
            "[[ 964    0    2    1    1    7    2    3    0    0]\n",
            " [  11 1114    4    0    0    2    1    0    2    1]\n",
            " [  50    8  930   11    2    2    2    8   16    3]\n",
            " [  54    1   12  915    0   11    0    7    8    2]\n",
            " [  48    1    0    0  879    0    5    1    5   43]\n",
            " [  75    1    2   27    3  746    7    5   22    4]\n",
            " [  53    2    4    0   10   27  857    0    5    0]\n",
            " [  29    3   23   11    2    1    0  936    0   23]\n",
            " [  87    8    4   14    4   30   10    2  803   12]\n",
            " [  42    6    0    5   14    5    0   27   14  896]]\n",
            "              precision    recall  f1-score   support\n",
            "\n",
            "           0       0.68      0.98      0.81       980\n",
            "           1       0.97      0.98      0.98      1135\n",
            "           2       0.95      0.90      0.92      1032\n",
            "           3       0.93      0.91      0.92      1010\n",
            "           4       0.96      0.90      0.93       982\n",
            "           5       0.90      0.84      0.87       892\n",
            "           6       0.97      0.89      0.93       958\n",
            "           7       0.95      0.91      0.93      1028\n",
            "           8       0.92      0.82      0.87       974\n",
            "           9       0.91      0.89      0.90      1009\n",
            "\n",
            "    accuracy                           0.90     10000\n",
            "   macro avg       0.91      0.90      0.90     10000\n",
            "weighted avg       0.91      0.90      0.91     10000\n",
            "\n",
            "--------------------------------------------------\n",
            "Test accuracy with original_ratio=0.6: 0.9556372549019608\n",
            "[[ 962    0    3    2    0    1    2    3    7    0]\n",
            " [  15 1093    3    2    1    1    3    1   16    0]\n",
            " [  71    6  916    8    9    2    3    2   13    2]\n",
            " [  63    0   12  884    1   21    2    8   14    5]\n",
            " [  37    5    1    0  908    0    7    2    3   19]\n",
            " [  42    1    0   12    1  812    9    5    7    3]\n",
            " [  49    5    3    0    6   25  869    0    1    0]\n",
            " [  43   10   21    4    4    1    0  925    0   20]\n",
            " [  80    4    5   17    5    9    6    1  837   10]\n",
            " [  44   10    0    5   26    7    0   12   11  894]]\n",
            "              precision    recall  f1-score   support\n",
            "\n",
            "           0       0.68      0.98      0.81       980\n",
            "           1       0.96      0.96      0.96      1135\n",
            "           2       0.95      0.89      0.92      1032\n",
            "           3       0.95      0.88      0.91      1010\n",
            "           4       0.94      0.92      0.93       982\n",
            "           5       0.92      0.91      0.92       892\n",
            "           6       0.96      0.91      0.93       958\n",
            "           7       0.96      0.90      0.93      1028\n",
            "           8       0.92      0.86      0.89       974\n",
            "           9       0.94      0.89      0.91      1009\n",
            "\n",
            "    accuracy                           0.91     10000\n",
            "   macro avg       0.92      0.91      0.91     10000\n",
            "weighted avg       0.92      0.91      0.91     10000\n",
            "\n",
            "--------------------------------------------------\n",
            "Test accuracy with original_ratio=0.7000000000000001: 0.9709082568807339\n",
            "[[ 966    1    0    0    2    5    3    2    1    0]\n",
            " [  16 1096    7    2    0    1    2    1   10    0]\n",
            " [  53    6  927   10    6    4    7    9    9    1]\n",
            " [  31    3   22  910    2   20    0    8    9    5]\n",
            " [  30    5    4    0  885    1   10    4    5   38]\n",
            " [  28    1    0   24    5  794    9    2   21    8]\n",
            " [  33    1    1    0    4   23  888    0    7    1]\n",
            " [  27    6   12    8    2    1    0  964    0    8]\n",
            " [  41    7    9    8    9   16   11    2  869    2]\n",
            " [  34    2    0    8   21    9    0    7   19  909]]\n",
            "              precision    recall  f1-score   support\n",
            "\n",
            "           0       0.77      0.99      0.86       980\n",
            "           1       0.97      0.97      0.97      1135\n",
            "           2       0.94      0.90      0.92      1032\n",
            "           3       0.94      0.90      0.92      1010\n",
            "           4       0.95      0.90      0.92       982\n",
            "           5       0.91      0.89      0.90       892\n",
            "           6       0.95      0.93      0.94       958\n",
            "           7       0.96      0.94      0.95      1028\n",
            "           8       0.91      0.89      0.90       974\n",
            "           9       0.94      0.90      0.92      1009\n",
            "\n",
            "    accuracy                           0.92     10000\n",
            "   macro avg       0.92      0.92      0.92     10000\n",
            "weighted avg       0.93      0.92      0.92     10000\n",
            "\n",
            "--------------------------------------------------\n",
            "Test accuracy with original_ratio=0.8: 0.9583534482758621\n",
            "[[ 965    0    0    1    3    3    1    1    4    2]\n",
            " [  18 1094    4    1    0    4    1    0   13    0]\n",
            " [  67    7  906   15    4    4    8    4   16    1]\n",
            " [  44    2   12  923    0   14    0   10    5    0]\n",
            " [  45    1    1    1  888    0    9    4    4   29]\n",
            " [  51    0    0   25    2  775   15    1   17    6]\n",
            " [  36    3    2    1    5   23  886    0    2    0]\n",
            " [  38   10   14   16   14    4    0  916    2   14]\n",
            " [  81    9    5   20    4   18    5    2  825    5]\n",
            " [  61    0    0   10   12    7    0   17    6  896]]\n",
            "              precision    recall  f1-score   support\n",
            "\n",
            "           0       0.69      0.98      0.81       980\n",
            "           1       0.97      0.96      0.97      1135\n",
            "           2       0.96      0.88      0.92      1032\n",
            "           3       0.91      0.91      0.91      1010\n",
            "           4       0.95      0.90      0.93       982\n",
            "           5       0.91      0.87      0.89       892\n",
            "           6       0.96      0.92      0.94       958\n",
            "           7       0.96      0.89      0.92      1028\n",
            "           8       0.92      0.85      0.88       974\n",
            "           9       0.94      0.89      0.91      1009\n",
            "\n",
            "    accuracy                           0.91     10000\n",
            "   macro avg       0.92      0.91      0.91     10000\n",
            "weighted avg       0.92      0.91      0.91     10000\n",
            "\n",
            "--------------------------------------------------\n",
            "Test accuracy with original_ratio=0.9: 0.9676666666666667\n",
            "[[ 969    0    2    1    0    0    4    3    1    0]\n",
            " [  15 1105    3    2    1    4    1    0    4    0]\n",
            " [  59    3  934    5    4    2    9    4   10    2]\n",
            " [  62    2   21  888    0   16    3   10    5    3]\n",
            " [  21    2    3    1  920    2    7    3    3   20]\n",
            " [  41    5    3   19    2  798    7    1    9    7]\n",
            " [  33    2    1    0    8   14  898    0    2    0]\n",
            " [  29    4   16    8    8    5    0  948    1    9]\n",
            " [  58    9    7   13    6   21   14    3  838    5]\n",
            " [  45    4    0    8   27    4    0   11   12  898]]\n",
            "              precision    recall  f1-score   support\n",
            "\n",
            "           0       0.73      0.99      0.84       980\n",
            "           1       0.97      0.97      0.97      1135\n",
            "           2       0.94      0.91      0.92      1032\n",
            "           3       0.94      0.88      0.91      1010\n",
            "           4       0.94      0.94      0.94       982\n",
            "           5       0.92      0.89      0.91       892\n",
            "           6       0.95      0.94      0.94       958\n",
            "           7       0.96      0.92      0.94      1028\n",
            "           8       0.95      0.86      0.90       974\n",
            "           9       0.95      0.89      0.92      1009\n",
            "\n",
            "    accuracy                           0.92     10000\n",
            "   macro avg       0.93      0.92      0.92     10000\n",
            "weighted avg       0.93      0.92      0.92     10000\n",
            "\n",
            "--------------------------------------------------\n",
            "Test accuracy with original_ratio=1.0: 0.9676076923076923\n",
            "[[ 966    0    2    1    1    1    6    1    2    0]\n",
            " [  10 1107    6    1    1    2    3    2    3    0]\n",
            " [  51    6  930    4    6    0   10    6   19    0]\n",
            " [  49    0   24  910    2    9    1    3   11    1]\n",
            " [  36    2    3    0  906    0   15    3    3   14]\n",
            " [  71    2    1   23    2  758   13    1   17    4]\n",
            " [  30    1    3    0    8    5  911    0    0    0]\n",
            " [  43    5   27    5    5    3    0  928    3    9]\n",
            " [  62    6    5    5   12    8   13    2  858    3]\n",
            " [  36    5    0    7   21    8    0   11   11  910]]\n",
            "              precision    recall  f1-score   support\n",
            "\n",
            "           0       0.71      0.99      0.83       980\n",
            "           1       0.98      0.98      0.98      1135\n",
            "           2       0.93      0.90      0.91      1032\n",
            "           3       0.95      0.90      0.93      1010\n",
            "           4       0.94      0.92      0.93       982\n",
            "           5       0.95      0.85      0.90       892\n",
            "           6       0.94      0.95      0.94       958\n",
            "           7       0.97      0.90      0.94      1028\n",
            "           8       0.93      0.88      0.90       974\n",
            "           9       0.97      0.90      0.93      1009\n",
            "\n",
            "    accuracy                           0.92     10000\n",
            "   macro avg       0.93      0.92      0.92     10000\n",
            "weighted avg       0.93      0.92      0.92     10000\n",
            "\n",
            "--------------------------------------------------\n"
          ]
        }
      ]
    },
    {
      "cell_type": "code",
      "source": [
        "Test accuracy with original_ratio=0.1: 0.9457164179104478\n",
        "[[ 965    0    4    0    2    1    3    3    2    0]\n",
        " [  17 1093    3    3    0    3    1    1   14    0]\n",
        " [  51    2  924    9    7    1    4    9   25    0]\n",
        " [  60    1   16  884    2   13    2    7   24    1]\n",
        " [  23    0    1    0  923    1    7    1    2   24]\n",
        " [  58    1    0   26    1  774   12    2   15    3]\n",
        " [  23    3    2    0    4   10  906    0   10    0]\n",
        " [  33    4   20    2    3    0    0  951    1   14]\n",
        " [  45    5    2    4   11    8   13    2  880    4]\n",
        " [  36    1    0    8   26    3    0    9   24  902]]\n",
        "              precision    recall  f1-score   support\n",
        "\n",
        "           0       0.74      0.98      0.84       980\n",
        "           1       0.98      0.96      0.97      1135\n",
        "           2       0.95      0.90      0.92      1032\n",
        "           3       0.94      0.88      0.91      1010\n",
        "           4       0.94      0.94      0.94       982\n",
        "           5       0.95      0.87      0.91       892\n",
        "           6       0.96      0.95      0.95       958\n",
        "           7       0.97      0.93      0.94      1028\n",
        "           8       0.88      0.90      0.89       974\n",
        "           9       0.95      0.89      0.92      1009\n",
        "\n",
        "    accuracy                           0.92     10000\n",
        "   macro avg       0.93      0.92      0.92     10000\n",
        "weighted avg       0.93      0.92      0.92     10000\n",
        "\n",
        "\n"
      ],
      "metadata": {
        "id": "TtURtOUnZlKL"
      },
      "execution_count": null,
      "outputs": []
    }
  ]
}