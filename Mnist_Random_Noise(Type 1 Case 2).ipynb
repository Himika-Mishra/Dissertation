{
  "nbformat": 4,
  "nbformat_minor": 0,
  "metadata": {
    "colab": {
      "provenance": [],
      "gpuType": "T4",
      "include_colab_link": true
    },
    "kernelspec": {
      "name": "python3",
      "display_name": "Python 3"
    },
    "language_info": {
      "name": "python"
    },
    "accelerator": "GPU",
    "gpuClass": "standard"
  },
  "cells": [
    {
      "cell_type": "markdown",
      "metadata": {
        "id": "view-in-github",
        "colab_type": "text"
      },
      "source": [
        "<a href=\"https://colab.research.google.com/github/Himika-Mishra/Dissertation/blob/main/Mnist_Random_Noise(Type%201%20Case%202).ipynb\" target=\"_parent\"><img src=\"https://colab.research.google.com/assets/colab-badge.svg\" alt=\"Open In Colab\"/></a>"
      ]
    },
    {
      "cell_type": "markdown",
      "source": [
        "# Type 1 (Case 2)"
      ],
      "metadata": {
        "id": "Rz2iV-fGEU15"
      }
    },
    {
      "cell_type": "code",
      "execution_count": 1,
      "metadata": {
        "id": "tCN13Ld-CHNJ"
      },
      "outputs": [],
      "source": [
        "import numpy as np\n",
        "import pandas as pd\n",
        "from keras.datasets import mnist\n",
        "from keras.models import Sequential\n",
        "from keras.layers import Dense\n",
        "from keras.utils import to_categorical\n",
        "from sklearn.metrics import confusion_matrix\n",
        "from sklearn.metrics import classification_report\n",
        "from sklearn.neural_network import MLPClassifier\n",
        "from sklearn.metrics import accuracy_score\n",
        "import matplotlib.pyplot as plt\n",
        "from skimage.util import random_noise\n",
        "from tqdm import tqdm\n",
        "import random\n",
        "from sklearn.preprocessing import OneHotEncoder\n",
        "import scipy.sparse as sp\n",
        "from sklearn.metrics import f1_score"
      ]
    },
    {
      "cell_type": "code",
      "source": [
        "# Load the MNIST dataset\n",
        "(x_train, y_train), (x_test, y_test) = mnist.load_data()"
      ],
      "metadata": {
        "id": "20r1w6_ZCLm9",
        "colab": {
          "base_uri": "https://localhost:8080/"
        },
        "outputId": "b2d1b93c-33c0-4e49-da2d-be3e9f2af16e"
      },
      "execution_count": 2,
      "outputs": [
        {
          "output_type": "stream",
          "name": "stdout",
          "text": [
            "Downloading data from https://storage.googleapis.com/tensorflow/tf-keras-datasets/mnist.npz\n",
            "11490434/11490434 [==============================] - 0s 0us/step\n"
          ]
        }
      ]
    },
    {
      "cell_type": "code",
      "source": [
        "# Flatten the images and normalize the pixel values to [0, 1]\n",
        "x_train = x_train.reshape((60000, 28 * 28)).astype('float32') / 255\n",
        "x_test = x_test.reshape((10000, 28 * 28)).astype('float32') / 255"
      ],
      "metadata": {
        "id": "0IiWvyV8CODq"
      },
      "execution_count": 3,
      "outputs": []
    },
    {
      "cell_type": "code",
      "source": [
        "# Create an instance of OneHotEncoder\n",
        "encoder = OneHotEncoder()\n",
        "\n",
        "# Fit the encoder on train_labels\n",
        "encoder.fit(y_train.reshape(-1, 1))\n",
        "\n",
        "# Encode the train labels\n",
        "y_train = encoder.transform(y_train.reshape(-1, 1))\n",
        "# Convert the csr_matrix to a numpy.ndarray\n",
        "y_train = y_train.toarray()\n",
        "\n",
        "# Encode the test labels\n",
        "y_test = encoder.transform(y_test.reshape(-1, 1))\n",
        "# Convert the csr_matrix to a numpy.ndarray\n",
        "y_test = y_test.toarray()"
      ],
      "metadata": {
        "id": "yWmsY7zLCRVU"
      },
      "execution_count": 4,
      "outputs": []
    },
    {
      "cell_type": "code",
      "source": [
        "type(y_test)"
      ],
      "metadata": {
        "colab": {
          "base_uri": "https://localhost:8080/"
        },
        "id": "5rtBHRavC-jr",
        "outputId": "16f30cf0-a10d-4124-b3a1-3ff2d2738505"
      },
      "execution_count": 5,
      "outputs": [
        {
          "output_type": "execute_result",
          "data": {
            "text/plain": [
              "numpy.ndarray"
            ]
          },
          "metadata": {},
          "execution_count": 5
        }
      ]
    },
    {
      "cell_type": "code",
      "source": [
        "x_train.shape"
      ],
      "metadata": {
        "colab": {
          "base_uri": "https://localhost:8080/"
        },
        "id": "JZoo9vP4DI9K",
        "outputId": "aca023aa-9286-449d-df02-267cde55697c"
      },
      "execution_count": 6,
      "outputs": [
        {
          "output_type": "execute_result",
          "data": {
            "text/plain": [
              "(60000, 784)"
            ]
          },
          "metadata": {},
          "execution_count": 6
        }
      ]
    },
    {
      "cell_type": "code",
      "source": [
        "# Generate random noise images\n",
        "noise_images = np.random.uniform(low=0.0, high=1.0, size=(1000000, 784))\n",
        "\n",
        "# Plot random 5 noise images\n",
        "random_indices = np.random.choice(len(noise_images), size=5, replace=False)\n",
        "\n",
        "fig, axes = plt.subplots(1, 5, figsize=(10, 2))\n",
        "for i, index in enumerate(random_indices):\n",
        "    noise_image = noise_images[index].reshape(28, 28)\n",
        "    axes[i].imshow(noise_image, cmap='gray')\n",
        "    axes[i].axis('off')\n",
        "\n",
        "plt.show()"
      ],
      "metadata": {
        "colab": {
          "base_uri": "https://localhost:8080/",
          "height": 170
        },
        "id": "gYiW6GMgDeA5",
        "outputId": "2e28d791-ff4d-468d-d7d1-23595a411f94"
      },
      "execution_count": 7,
      "outputs": [
        {
          "output_type": "display_data",
          "data": {
            "text/plain": [
              "<Figure size 1000x200 with 5 Axes>"
            ],
            "image/png": "[encoded data removed]"
          },
          "metadata": {}
        }
      ]
    },
    {
      "cell_type": "code",
      "source": [
        "# Generate random noise images\n",
        "noise_images = np.random.laplace(loc=0.5, scale=0.1, size=(1000000, 784))\n",
        "\n",
        "# Plot random 5 noise images\n",
        "random_indices = np.random.choice(len(noise_images), size=5, replace=False)\n",
        "\n",
        "fig, axes = plt.subplots(1, 5, figsize=(10, 2))\n",
        "for i, index in enumerate(random_indices):\n",
        "    noise_image = noise_images[index].reshape(28, 28)\n",
        "    axes[i].imshow(noise_image, cmap='gray')\n",
        "    axes[i].axis('off')\n",
        "\n",
        "plt.show()\n"
      ],
      "metadata": {
        "colab": {
          "base_uri": "https://localhost:8080/",
          "height": 170
        },
        "id": "2iFtk1D9D-1g",
        "outputId": "bca40102-7393-4c66-f734-55f0a8461bce"
      },
      "execution_count": null,
      "outputs": [
        {
          "output_type": "display_data",
          "data": {
            "text/plain": [
              "<Figure size 1000x200 with 5 Axes>"
            ],
            "image/png": "[encoded data removed]"
          },
          "metadata": {}
        }
      ]
    },
    {
      "cell_type": "code",
      "source": [
        "# Define the parameters for random Fourier function\n",
        "num_components = 100\n",
        "amplitude_range = (0, 1)\n",
        "phase_range = (0, 2*np.pi)\n",
        "\n",
        "# Generate random noise images\n",
        "noise_images = np.zeros((1000000, 784))\n",
        "\n",
        "for i in range(num_components):\n",
        "    amplitude = np.random.uniform(*amplitude_range)\n",
        "    phase = np.random.uniform(*phase_range)\n",
        "\n",
        "    random_fourier = np.random.normal(0, 1, size=(1000000, 2))\n",
        "    random_fourier *= amplitude\n",
        "    random_fourier = np.cos(random_fourier)\n",
        "    random_fourier = np.sum(random_fourier, axis=1)\n",
        "    random_fourier *= np.sqrt(2 / num_components)\n",
        "    random_fourier *= np.sqrt(1 / 2)\n",
        "\n",
        "    noise_images += random_fourier.reshape(-1, 1)\n",
        "\n",
        "# Plot random 5 noise images\n",
        "random_indices = np.random.choice(len(noise_images), size=5, replace=False)\n",
        "\n",
        "fig, axes = plt.subplots(1, 5, figsize=(10, 2))\n",
        "for i, index in enumerate(random_indices):\n",
        "    noise_image = noise_images[index].reshape(28, 28)\n",
        "    axes[i].imshow(noise_image, cmap='gray')\n",
        "    axes[i].axis('off')\n",
        "\n",
        "plt.show()"
      ],
      "metadata": {
        "colab": {
          "base_uri": "https://localhost:8080/",
          "height": 170
        },
        "id": "w4icDXpQNE2a",
        "outputId": "918095a8-1f71-4142-8b6d-fcc4b29b83d4"
      },
      "execution_count": null,
      "outputs": [
        {
          "output_type": "display_data",
          "data": {
            "text/plain": [
              "<Figure size 1000x200 with 5 Axes>"
            ],
            "image/png": "[encoded data removed]"
          },
          "metadata": {}
        }
      ]
    },
    {
      "cell_type": "code",
      "source": [
        "# Create a dataframe to store the noisy images\n",
        "x_train_distorted = pd.DataFrame(noise_images)"
      ],
      "metadata": {
        "id": "wPQ05tBZN3Er"
      },
      "execution_count": 8,
      "outputs": []
    },
    {
      "cell_type": "code",
      "source": [
        "len(x_train_distorted)"
      ],
      "metadata": {
        "colab": {
          "base_uri": "https://localhost:8080/"
        },
        "id": "5Y9IM2S0VO4y",
        "outputId": "cdcd5897-41ba-41c7-e2c2-4c5cdda9cc85"
      },
      "execution_count": 9,
      "outputs": [
        {
          "output_type": "execute_result",
          "data": {
            "text/plain": [
              "1000000"
            ]
          },
          "metadata": {},
          "execution_count": 9
        }
      ]
    },
    {
      "cell_type": "code",
      "source": [
        "# Create a dataframe of array of zeroes as labels for above distorted images\n",
        "y_train_distorted = np.zeros((1000000, 10))"
      ],
      "metadata": {
        "id": "QjeycKMZTf6-"
      },
      "execution_count": 10,
      "outputs": []
    },
    {
      "cell_type": "code",
      "source": [
        "# Select 5 random indices\n",
        "random_indices = random.sample(range(len(x_train_distorted)), 5)\n",
        "\n",
        "# Retrieve the distorted images and labels at the selected indices\n",
        "distorted_images = [noise_images[i] for i in random_indices]\n",
        "labels = [y_train_distorted for i in random_indices]\n",
        "\n",
        "# Display the distorted images\n",
        "for i in range(5):\n",
        "    image = distorted_images[i]\n",
        "    label = labels[i]\n",
        "    \n",
        "    # Reshape the image back to its original shape (assuming it was flattened)\n",
        "    image = image.reshape(28, 28)\n",
        "    \n",
        "    # Plot the image\n",
        "    plt.subplot(1, 5, i+1)\n",
        "    plt.imshow(image, cmap='gray')\n",
        "    plt.title(f'Label: {label}')\n",
        "    plt.axis('off')\n",
        "\n",
        "# Adjust the layout and display the plot\n",
        "plt.tight_layout()\n",
        "plt.show()"
      ],
      "metadata": {
        "colab": {
          "base_uri": "https://localhost:8080/",
          "height": 294
        },
        "id": "_MyMO0paToFq",
        "outputId": "1e40b398-4abb-46af-ee0c-21f80f6a55b5"
      },
      "execution_count": 11,
      "outputs": [
        {
          "output_type": "display_data",
          "data": {
            "text/plain": [
              "<Figure size 640x480 with 5 Axes>"
            ],
            "image/png": "[encoded data removed]"
          },
          "metadata": {}
        }
      ]
    },
    {
      "cell_type": "code",
      "source": [
        "# Initialize the merged train dataframe\n",
        "merged_x_train = pd.DataFrame()"
      ],
      "metadata": {
        "id": "6yreh1ZoTslN"
      },
      "execution_count": 12,
      "outputs": []
    },
    {
      "cell_type": "code",
      "source": [
        "# Define the ratio of distorted images to select\n",
        "ratios = np.arange(0.1, 1.1, 0.1)"
      ],
      "metadata": {
        "id": "jflydUpcUZRb"
      },
      "execution_count": 13,
      "outputs": []
    },
    {
      "cell_type": "code",
      "source": [
        "# Convert the distorted train data from list and ndarray to DataFrame\n",
        "x_train = pd.DataFrame(x_train)\n",
        "y_train = pd.DataFrame(y_train)\n",
        "x_train_distorted = pd.DataFrame(x_train_distorted)\n",
        "y_train_distorted = pd.DataFrame(y_train_distorted)"
      ],
      "metadata": {
        "id": "P-rrcFp2UalM"
      },
      "execution_count": 14,
      "outputs": []
    },
    {
      "cell_type": "code",
      "source": [
        "# Initialize lists to store the ratio and F1 scores\n",
        "ratios = []\n",
        "f1_scores = []\n",
        "classification_reports = []"
      ],
      "metadata": {
        "id": "zdCXB4ZN-RFb"
      },
      "execution_count": 15,
      "outputs": []
    },
    {
      "cell_type": "code",
      "source": [
        "# Iterate over the ratios\n",
        "for ratio in ratios:\n",
        "    # Calculate the number of distorted images to select based on the ratio\n",
        "    num_distorted = int(len(x_train) * ratio)\n",
        "\n",
        "    # # Randomly select the specified number of distorted images\n",
        "    # selected_distorted_images = x_train_distorted.sample(n=num_distorted, random_state=42)\n",
        "    # selected_distorted_labels = y_train_distorted.sample(n=num_distorted, random_state=42)\n",
        "\n",
        "    # Create a noise DataFrame with the same number of rows as reduced training set\n",
        "    noise_data = pd.DataFrame(np.random.uniform(size=(num_distorted, 784)))\n",
        "    noise_labels = np.zeros((num_distorted, 10))\n",
        "\n",
        "    # Concatenate the selected distorted images with the original train dataframe\n",
        "    merged_x_train = np.concatenate([x_train, noise_data.values])\n",
        "    merged_y_train = np.concatenate([y_train, noise_labels])\n",
        "\n",
        "    # Train and evaluate the model \n",
        "    # Fit a regular MLP classifier\n",
        "    mlp = MLPClassifier(hidden_layer_sizes=(10,8), activation='relu', solver='adam', max_iter=500)\n",
        "    mlp.fit(merged_x_train, merged_y_train)\n",
        "    # Accuracy Score\n",
        "    test_acc = mlp.score(merged_x_train, merged_y_train)\n",
        "    # print(mlp.score(merged_x_train, merged_y_train))\n",
        "    print(f\"Test accuracy with original data(0-9) with adding noise with original_ratio={ratio}: {test_acc}\")\n",
        "\n",
        "    # predictions\n",
        "    pred = mlp.predict(x_test)\n",
        "    print(confusion_matrix(y_test.argmax(axis=1), pred.argmax(axis=1)))\n",
        "    print(classification_report(y_test.argmax(axis=1), pred.argmax(axis=1)))\n",
        "\n",
        "    # Calculate F1 score and store the ratio, F1 score, and classification report\n",
        "    f1 = f1_score(y_test.argmax(axis=1), pred.argmax(axis=1), average='weighted')\n",
        "    ratios.append(ratio)\n",
        "    f1_scores.append(f1)\n",
        "    classification_reports.append(classification_report(y_test.argmax(axis=1), pred.argmax(axis=1), output_dict=True))\n",
        "    print(\"--------------------------------------------------\")"
      ],
      "metadata": {
        "id": "_4OwNad8Ud6Y"
      },
      "execution_count": 16,
      "outputs": []
    },
    {
      "cell_type": "code",
      "source": [
        "num_distorted = int(len(x_train) * 0.4)"
      ],
      "metadata": {
        "id": "FJTLaffe_qZu"
      },
      "execution_count": 25,
      "outputs": []
    },
    {
      "cell_type": "code",
      "source": [
        "# Randomly select the specified number of distorted images\n",
        "selected_distorted_images = x_train_distorted.sample(n=num_distorted, random_state=42)\n",
        "selected_distorted_labels = y_train_distorted.sample(n=num_distorted, random_state=42)"
      ],
      "metadata": {
        "id": "woniTEVo_qcm"
      },
      "execution_count": 26,
      "outputs": []
    },
    {
      "cell_type": "code",
      "source": [
        " # Concatenate the selected distorted images with the original train dataframe\n",
        "merged_x_train = pd.concat([x_train, selected_distorted_images])\n",
        "merged_y_train = pd.concat([y_train, selected_distorted_labels])"
      ],
      "metadata": {
        "id": "TSgkZzTf_qfa"
      },
      "execution_count": 27,
      "outputs": []
    },
    {
      "cell_type": "code",
      "source": [
        "# Fit a regular MLP classifier\n",
        "mlp = MLPClassifier(hidden_layer_sizes=(10,8), activation='relu', solver='adam', max_iter=500)\n",
        "mlp.fit(merged_x_train, merged_y_train)"
      ],
      "metadata": {
        "id": "xnFUqPjj_qjf"
      },
      "execution_count": null,
      "outputs": []
    },
    {
      "cell_type": "code",
      "source": [
        "# Accuracy Score\n",
        "test_acc = mlp.score(merged_x_train, merged_y_train)\n",
        "# print(mlp.score(merged_x_train, merged_y_train))\n",
        "print(f\"Test accuracy with original data(0-9) with adding noise with original_ratio={ratio}: {test_acc}\")\n",
        "\n",
        "# predictions\n",
        "pred = mlp.predict(x_test)\n",
        "print(confusion_matrix(y_test.argmax(axis=1), pred.argmax(axis=1)))\n",
        "print(classification_report(y_test.argmax(axis=1), pred.argmax(axis=1)))"
      ],
      "metadata": {
        "id": "iU1Rj2WS_6AA"
      },
      "execution_count": null,
      "outputs": []
    },
    {
      "cell_type": "code",
      "source": [],
      "metadata": {
        "id": "6oqpGD29_6C1"
      },
      "execution_count": null,
      "outputs": []
    },
    {
      "cell_type": "code",
      "source": [
        "Test accuracy with original_ratio=0.1: 0.9408484848484848\n",
        "[[ 966    0    0    1    1    0    7    2    1    2]\n",
        " [  14 1107    6    0    0    1    1    1    5    0]\n",
        " [  46    6  937   12    5    0    9   10    7    0]\n",
        " [  51    3   13  922    1    5    0    4    9    2]\n",
        " [  26    0    5    2  920    0    9    2    2   16]\n",
        " [  55    3    1   24    2  779    8    3   11    6]\n",
        " [  44    2    2    0    6   18  881    0    5    0]\n",
        " [  37    7   20    7    3    0    0  939    4   11]\n",
        " [  60    9    4   21   13   14    3    1  846    3]\n",
        " [  54    5    0   12   31    4    0    5    9  889]]\n",
        "              precision    recall  f1-score   support\n",
        "\n",
        "           0       0.71      0.99      0.83       980\n",
        "           1       0.97      0.98      0.97      1135\n",
        "           2       0.95      0.91      0.93      1032\n",
        "           3       0.92      0.91      0.92      1010\n",
        "           4       0.94      0.94      0.94       982\n",
        "           5       0.95      0.87      0.91       892\n",
        "           6       0.96      0.92      0.94       958\n",
        "           7       0.97      0.91      0.94      1028\n",
        "           8       0.94      0.87      0.90       974\n",
        "           9       0.96      0.88      0.92      1009\n",
        "\n",
        "    accuracy                           0.92     10000\n",
        "   macro avg       0.93      0.92      0.92     10000\n",
        "weighted avg       0.93      0.92      0.92     10000\n",
        "\n"
      ],
      "metadata": {
        "id": "sNKbGAe_er0w"
      },
      "execution_count": null,
      "outputs": []
    }
  ]
}