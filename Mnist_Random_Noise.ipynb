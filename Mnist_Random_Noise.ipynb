{
  "nbformat": 4,
  "nbformat_minor": 0,
  "metadata": {
    "colab": {
      "provenance": [],
      "authorship_tag": "ABX9TyPwumlqc64qkPPDvHezGZjr",
      "include_colab_link": true
    },
    "kernelspec": {
      "name": "python3",
      "display_name": "Python 3"
    },
    "language_info": {
      "name": "python"
    }
  },
  "cells": [
    {
      "cell_type": "markdown",
      "metadata": {
        "id": "view-in-github",
        "colab_type": "text"
      },
      "source": [
        "<a href=\"https://colab.research.google.com/github/Himika-Mishra/Dissertation/blob/main/Mnist_Random_Noise.ipynb\" target=\"_parent\"><img src=\"https://colab.research.google.com/assets/colab-badge.svg\" alt=\"Open In Colab\"/></a>"
      ]
    },
    {
      "cell_type": "code",
      "execution_count": null,
      "metadata": {
        "id": "tCN13Ld-CHNJ"
      },
      "outputs": [],
      "source": [
        "import numpy as np\n",
        "import pandas as pd\n",
        "from keras.datasets import mnist\n",
        "from keras.models import Sequential\n",
        "from keras.layers import Dense\n",
        "from keras.utils import to_categorical\n",
        "from sklearn.metrics import confusion_matrix\n",
        "from sklearn.metrics import classification_report\n",
        "from sklearn.neural_network import MLPClassifier\n",
        "from sklearn.metrics import accuracy_score\n",
        "import matplotlib.pyplot as plt\n",
        "from skimage.util import random_noise\n",
        "from tqdm import tqdm\n",
        "import random\n",
        "from sklearn.preprocessing import OneHotEncoder\n",
        "import scipy.sparse as sp"
      ]
    },
    {
      "cell_type": "code",
      "source": [
        "# Load the MNIST dataset\n",
        "(x_train, y_train), (x_test, y_test) = mnist.load_data()"
      ],
      "metadata": {
        "id": "20r1w6_ZCLm9"
      },
      "execution_count": null,
      "outputs": []
    },
    {
      "cell_type": "code",
      "source": [
        "# Flatten the images and normalize the pixel values to [0, 1]\n",
        "x_train = x_train.reshape((60000, 28 * 28)).astype('float32') / 255\n",
        "x_test = x_test.reshape((10000, 28 * 28)).astype('float32') / 255"
      ],
      "metadata": {
        "id": "0IiWvyV8CODq"
      },
      "execution_count": null,
      "outputs": []
    },
    {
      "cell_type": "code",
      "source": [
        "# Create an instance of OneHotEncoder\n",
        "encoder = OneHotEncoder()\n",
        "\n",
        "# Fit the encoder on train_labels\n",
        "encoder.fit(y_train.reshape(-1, 1))\n",
        "\n",
        "# Encode the train labels\n",
        "y_train = encoder.transform(y_train.reshape(-1, 1))\n",
        "# Convert the csr_matrix to a numpy.ndarray\n",
        "y_train = y_train.toarray()\n",
        "\n",
        "# Encode the test labels\n",
        "y_test = encoder.transform(y_test.reshape(-1, 1))\n",
        "# Convert the csr_matrix to a numpy.ndarray\n",
        "y_test = y_test.toarray()"
      ],
      "metadata": {
        "id": "yWmsY7zLCRVU"
      },
      "execution_count": null,
      "outputs": []
    },
    {
      "cell_type": "code",
      "source": [
        "type(y_test)"
      ],
      "metadata": {
        "colab": {
          "base_uri": "https://localhost:8080/"
        },
        "id": "5rtBHRavC-jr",
        "outputId": "35634312-8179-47b5-c5d9-2da05814d791"
      },
      "execution_count": null,
      "outputs": [
        {
          "output_type": "execute_result",
          "data": {
            "text/plain": [
              "numpy.ndarray"
            ]
          },
          "metadata": {},
          "execution_count": 5
        }
      ]
    },
    {
      "cell_type": "code",
      "source": [
        "x_train.shape"
      ],
      "metadata": {
        "colab": {
          "base_uri": "https://localhost:8080/"
        },
        "id": "JZoo9vP4DI9K",
        "outputId": "2ec05619-4b83-4585-aaab-b2d13808a06b"
      },
      "execution_count": null,
      "outputs": [
        {
          "output_type": "execute_result",
          "data": {
            "text/plain": [
              "(60000, 784)"
            ]
          },
          "metadata": {},
          "execution_count": 6
        }
      ]
    },
    {
      "cell_type": "code",
      "source": [
        "# Generate random noise images\n",
        "noise_images = np.random.uniform(low=0.0, high=1.0, size=(1000000, 784))\n",
        "\n",
        "# Plot random 5 noise images\n",
        "random_indices = np.random.choice(len(noise_images), size=5, replace=False)\n",
        "\n",
        "fig, axes = plt.subplots(1, 5, figsize=(10, 2))\n",
        "for i, index in enumerate(random_indices):\n",
        "    noise_image = noise_images[index].reshape(28, 28)\n",
        "    axes[i].imshow(noise_image, cmap='gray')\n",
        "    axes[i].axis('off')\n",
        "\n",
        "plt.show()"
      ],
      "metadata": {
        "colab": {
          "base_uri": "https://localhost:8080/",
          "height": 170
        },
        "id": "gYiW6GMgDeA5",
        "outputId": "a01365dc-fb22-462c-b372-1b2d4e98397f"
      },
      "execution_count": null,
      "outputs": [
        {
          "output_type": "display_data",
          "data": {
            "text/plain": [
              "<Figure size 1000x200 with 5 Axes>"
            ],
            "image/png": "[encoded data removed]"
          },
          "metadata": {}
        }
      ]
    },
    {
      "cell_type": "code",
      "source": [
        "# Generate random noise images\n",
        "noise_images = np.random.laplace(loc=0.5, scale=0.1, size=(1000000, 784))\n",
        "\n",
        "# Plot random 5 noise images\n",
        "random_indices = np.random.choice(len(noise_images), size=5, replace=False)\n",
        "\n",
        "fig, axes = plt.subplots(1, 5, figsize=(10, 2))\n",
        "for i, index in enumerate(random_indices):\n",
        "    noise_image = noise_images[index].reshape(28, 28)\n",
        "    axes[i].imshow(noise_image, cmap='gray')\n",
        "    axes[i].axis('off')\n",
        "\n",
        "plt.show()\n"
      ],
      "metadata": {
        "colab": {
          "base_uri": "https://localhost:8080/",
          "height": 170
        },
        "id": "2iFtk1D9D-1g",
        "outputId": "bca40102-7393-4c66-f734-55f0a8461bce"
      },
      "execution_count": null,
      "outputs": [
        {
          "output_type": "display_data",
          "data": {
            "text/plain": [
              "<Figure size 1000x200 with 5 Axes>"
            ],
            "image/png": "[encoded data removed]"
          },
          "metadata": {}
        }
      ]
    },
    {
      "cell_type": "code",
      "source": [
        "# Define the parameters for random Fourier function\n",
        "num_components = 100\n",
        "amplitude_range = (0, 1)\n",
        "phase_range = (0, 2*np.pi)\n",
        "\n",
        "# Generate random noise images\n",
        "noise_images = np.zeros((1000000, 784))\n",
        "\n",
        "for i in range(num_components):\n",
        "    amplitude = np.random.uniform(*amplitude_range)\n",
        "    phase = np.random.uniform(*phase_range)\n",
        "\n",
        "    random_fourier = np.random.normal(0, 1, size=(1000000, 2))\n",
        "    random_fourier *= amplitude\n",
        "    random_fourier = np.cos(random_fourier)\n",
        "    random_fourier = np.sum(random_fourier, axis=1)\n",
        "    random_fourier *= np.sqrt(2 / num_components)\n",
        "    random_fourier *= np.sqrt(1 / 2)\n",
        "\n",
        "    noise_images += random_fourier.reshape(-1, 1)\n",
        "\n",
        "# Plot random 5 noise images\n",
        "random_indices = np.random.choice(len(noise_images), size=5, replace=False)\n",
        "\n",
        "fig, axes = plt.subplots(1, 5, figsize=(10, 2))\n",
        "for i, index in enumerate(random_indices):\n",
        "    noise_image = noise_images[index].reshape(28, 28)\n",
        "    axes[i].imshow(noise_image, cmap='gray')\n",
        "    axes[i].axis('off')\n",
        "\n",
        "plt.show()"
      ],
      "metadata": {
        "colab": {
          "base_uri": "https://localhost:8080/",
          "height": 170
        },
        "id": "w4icDXpQNE2a",
        "outputId": "918095a8-1f71-4142-8b6d-fcc4b29b83d4"
      },
      "execution_count": null,
      "outputs": [
        {
          "output_type": "display_data",
          "data": {
            "text/plain": [
              "<Figure size 1000x200 with 5 Axes>"
            ],
            "image/png": "[encoded data removed]"
          },
          "metadata": {}
        }
      ]
    },
    {
      "cell_type": "code",
      "source": [
        "# Create a dataframe to store the noisy images\n",
        "x_train_distorted = pd.DataFrame(noise_images)"
      ],
      "metadata": {
        "id": "wPQ05tBZN3Er"
      },
      "execution_count": null,
      "outputs": []
    },
    {
      "cell_type": "code",
      "source": [
        "len(x_train_distorted)"
      ],
      "metadata": {
        "colab": {
          "base_uri": "https://localhost:8080/"
        },
        "id": "5Y9IM2S0VO4y",
        "outputId": "ced1c62a-39ac-4ac3-f3dd-8cd116ab8548"
      },
      "execution_count": null,
      "outputs": [
        {
          "output_type": "execute_result",
          "data": {
            "text/plain": [
              "1000000"
            ]
          },
          "metadata": {},
          "execution_count": 9
        }
      ]
    },
    {
      "cell_type": "code",
      "source": [
        "# Create a dataframe of array of zeroes as labels for above distorted images\n",
        "y_train_distorted = np.zeros((1000000, 10))"
      ],
      "metadata": {
        "id": "QjeycKMZTf6-"
      },
      "execution_count": null,
      "outputs": []
    },
    {
      "cell_type": "code",
      "source": [
        "# Select 5 random indices\n",
        "random_indices = random.sample(range(len(x_train_distorted)), 5)\n",
        "\n",
        "# Retrieve the distorted images and labels at the selected indices\n",
        "distorted_images = [noise_images[i] for i in random_indices]\n",
        "labels = [y_train_distorted for i in random_indices]\n",
        "\n",
        "# Display the distorted images\n",
        "for i in range(5):\n",
        "    image = distorted_images[i]\n",
        "    label = labels[i]\n",
        "    \n",
        "    # Reshape the image back to its original shape (assuming it was flattened)\n",
        "    image = image.reshape(28, 28)\n",
        "    \n",
        "    # Plot the image\n",
        "    plt.subplot(1, 5, i+1)\n",
        "    plt.imshow(image, cmap='gray')\n",
        "    plt.title(f'Label: {label}')\n",
        "    plt.axis('off')\n",
        "\n",
        "# Adjust the layout and display the plot\n",
        "plt.tight_layout()\n",
        "plt.show()"
      ],
      "metadata": {
        "colab": {
          "base_uri": "https://localhost:8080/",
          "height": 294
        },
        "id": "_MyMO0paToFq",
        "outputId": "c31bf634-eb20-459b-9840-c8f2204f83dc"
      },
      "execution_count": null,
      "outputs": [
        {
          "output_type": "display_data",
          "data": {
            "text/plain": [
              "<Figure size 640x480 with 5 Axes>"
            ],
            "image/png": "[encoded data removed]"
          },
          "metadata": {}
        }
      ]
    },
    {
      "cell_type": "code",
      "source": [
        "# Initialize the merged train dataframe\n",
        "merged_x_train = pd.DataFrame()"
      ],
      "metadata": {
        "id": "6yreh1ZoTslN"
      },
      "execution_count": null,
      "outputs": []
    },
    {
      "cell_type": "code",
      "source": [
        "# Define the ratio of distorted images to select\n",
        "ratios = np.arange(0.1, 1.1, 0.1)"
      ],
      "metadata": {
        "id": "jflydUpcUZRb"
      },
      "execution_count": null,
      "outputs": []
    },
    {
      "cell_type": "code",
      "source": [
        "# Convert the distorted train data from list and ndarray to DataFrame\n",
        "x_train = pd.DataFrame(x_train)\n",
        "y_train = pd.DataFrame(y_train)\n",
        "x_train_distorted = pd.DataFrame(x_train_distorted)\n",
        "y_train_distorted = pd.DataFrame(y_train_distorted)"
      ],
      "metadata": {
        "id": "P-rrcFp2UalM"
      },
      "execution_count": null,
      "outputs": []
    },
    {
      "cell_type": "code",
      "source": [
        "# Iterate over the ratios\n",
        "for ratio in ratios:\n",
        "    # Calculate the number of distorted images to select based on the ratio\n",
        "    num_distorted = int(len(x_train) * ratio)\n",
        "\n",
        "    # Randomly select the specified number of distorted images\n",
        "    selected_distorted_images = x_train_distorted.sample(n=num_distorted, random_state=42)\n",
        "    selected_distorted_labels = y_train_distorted.sample(n=num_distorted, random_state=42)\n",
        "\n",
        "    # Concatenate the selected distorted images with the original train dataframe\n",
        "    merged_x_train = pd.concat([x_train, selected_distorted_images])\n",
        "    merged_y_train = pd.concat([y_train, selected_distorted_labels])\n",
        "\n",
        "    # Train and evaluate the model \n",
        "    # Fit a regular MLP classifier\n",
        "    mlp = MLPClassifier(hidden_layer_sizes=(10,8), activation='relu', solver='adam', max_iter=500)\n",
        "    mlp.fit(merged_x_train, merged_y_train)\n",
        "    # Accuracy Score\n",
        "    test_acc = mlp.score(merged_x_train, merged_y_train)\n",
        "    # print(mlp.score(merged_x_train, merged_y_train))\n",
        "    print(f\"Test accuracy with original_ratio={ratio}: {test_acc}\")\n",
        "\n",
        "    # predictions\n",
        "    pred = mlp.predict(x_test)\n",
        "    print(confusion_matrix(y_test.argmax(axis=1), pred.argmax(axis=1)))\n",
        "    print(classification_report(y_test.argmax(axis=1), pred.argmax(axis=1)))\n",
        "    print(\"--------------------------------------------------\")"
      ],
      "metadata": {
        "colab": {
          "base_uri": "https://localhost:8080/"
        },
        "id": "_4OwNad8Ud6Y",
        "outputId": "bf4c936e-6578-414c-d381-600dd909727e"
      },
      "execution_count": null,
      "outputs": [
        {
          "output_type": "stream",
          "name": "stdout",
          "text": [
            "Test accuracy with original_ratio=0.1: 0.9408484848484848\n",
            "[[ 966    0    0    1    1    0    7    2    1    2]\n",
            " [  14 1107    6    0    0    1    1    1    5    0]\n",
            " [  46    6  937   12    5    0    9   10    7    0]\n",
            " [  51    3   13  922    1    5    0    4    9    2]\n",
            " [  26    0    5    2  920    0    9    2    2   16]\n",
            " [  55    3    1   24    2  779    8    3   11    6]\n",
            " [  44    2    2    0    6   18  881    0    5    0]\n",
            " [  37    7   20    7    3    0    0  939    4   11]\n",
            " [  60    9    4   21   13   14    3    1  846    3]\n",
            " [  54    5    0   12   31    4    0    5    9  889]]\n",
            "              precision    recall  f1-score   support\n",
            "\n",
            "           0       0.71      0.99      0.83       980\n",
            "           1       0.97      0.98      0.97      1135\n",
            "           2       0.95      0.91      0.93      1032\n",
            "           3       0.92      0.91      0.92      1010\n",
            "           4       0.94      0.94      0.94       982\n",
            "           5       0.95      0.87      0.91       892\n",
            "           6       0.96      0.92      0.94       958\n",
            "           7       0.97      0.91      0.94      1028\n",
            "           8       0.94      0.87      0.90       974\n",
            "           9       0.96      0.88      0.92      1009\n",
            "\n",
            "    accuracy                           0.92     10000\n",
            "   macro avg       0.93      0.92      0.92     10000\n",
            "weighted avg       0.93      0.92      0.92     10000\n",
            "\n",
            "--------------------------------------------------\n",
            "Test accuracy with original_ratio=0.2: 0.93775\n",
            "[[ 960    0    2    1    3    9    3    2    0    0]\n",
            " [  19 1103    6    0    0    1    2    2    2    0]\n",
            " [  60    9  915    7   12    0    6    8   14    1]\n",
            " [  42    1   23  883    3   35    1   11    8    3]\n",
            " [  38    2    5    0  906    0    8    6    1   16]\n",
            " [  42    2    3   26    6  791    8    2   11    1]\n",
            " [  36    3    9    0   13   19  877    0    1    0]\n",
            " [  32    8   18    2    3    0    0  950    0   15]\n",
            " [  66    9    7   13   10   12    9    3  837    8]\n",
            " [  44    1    1    5   23    8    0   15    5  907]]\n",
            "              precision    recall  f1-score   support\n",
            "\n",
            "           0       0.72      0.98      0.83       980\n",
            "           1       0.97      0.97      0.97      1135\n",
            "           2       0.93      0.89      0.91      1032\n",
            "           3       0.94      0.87      0.91      1010\n",
            "           4       0.93      0.92      0.92       982\n",
            "           5       0.90      0.89      0.90       892\n",
            "           6       0.96      0.92      0.94       958\n",
            "           7       0.95      0.92      0.94      1028\n",
            "           8       0.95      0.86      0.90       974\n",
            "           9       0.95      0.90      0.93      1009\n",
            "\n",
            "    accuracy                           0.91     10000\n",
            "   macro avg       0.92      0.91      0.91     10000\n",
            "weighted avg       0.92      0.91      0.91     10000\n",
            "\n",
            "--------------------------------------------------\n",
            "Test accuracy with original_ratio=0.30000000000000004: 0.960076923076923\n",
            "[[ 968    0    1    0    1    1    4    2    2    1]\n",
            " [  14 1100    4    2    0    1    1    1   12    0]\n",
            " [  55    5  920   11    5    2    5   10   18    1]\n",
            " [  28    2   11  930    4   16    0    6   10    3]\n",
            " [  34    0    2    1  899    0   10    4    6   26]\n",
            " [  38    1    1   27    4  800    5    1    9    6]\n",
            " [  29    3    4    0    9   16  891    0    6    0]\n",
            " [  28    7   24   10    7    0    0  938    1   13]\n",
            " [  54    2    4   10    8   13   13    4  861    5]\n",
            " [  39    0    0   11   18   10    0   13    2  916]]\n",
            "              precision    recall  f1-score   support\n",
            "\n",
            "           0       0.75      0.99      0.85       980\n",
            "           1       0.98      0.97      0.98      1135\n",
            "           2       0.95      0.89      0.92      1032\n",
            "           3       0.93      0.92      0.92      1010\n",
            "           4       0.94      0.92      0.93       982\n",
            "           5       0.93      0.90      0.91       892\n",
            "           6       0.96      0.93      0.94       958\n",
            "           7       0.96      0.91      0.93      1028\n",
            "           8       0.93      0.88      0.91       974\n",
            "           9       0.94      0.91      0.93      1009\n",
            "\n",
            "    accuracy                           0.92     10000\n",
            "   macro avg       0.93      0.92      0.92     10000\n",
            "weighted avg       0.93      0.92      0.92     10000\n",
            "\n",
            "--------------------------------------------------\n",
            "Test accuracy with original_ratio=0.4: 0.9450119047619048\n",
            "[[ 956    0    5    1    0    4   10    3    1    0]\n",
            " [  12 1110    3    3    0    1    1    2    3    0]\n",
            " [  73   10  908    9    4    3    6    6   13    0]\n",
            " [  46    1   17  908    2   22    1    5    4    4]\n",
            " [  48    0    2    1  883    5   13    1    7   22]\n",
            " [  74    3    0   32    8  739   15    2   12    7]\n",
            " [  41    6    4    0    5    6  894    1    1    0]\n",
            " [  35    8   18    8    2    0    0  949    0    8]\n",
            " [  76   13    3   11    5   32    3    4  823    4]\n",
            " [  42    5    0    8   24    6    1   17    8  898]]\n",
            "              precision    recall  f1-score   support\n",
            "\n",
            "           0       0.68      0.98      0.80       980\n",
            "           1       0.96      0.98      0.97      1135\n",
            "           2       0.95      0.88      0.91      1032\n",
            "           3       0.93      0.90      0.91      1010\n",
            "           4       0.95      0.90      0.92       982\n",
            "           5       0.90      0.83      0.86       892\n",
            "           6       0.95      0.93      0.94       958\n",
            "           7       0.96      0.92      0.94      1028\n",
            "           8       0.94      0.84      0.89       974\n",
            "           9       0.95      0.89      0.92      1009\n",
            "\n",
            "    accuracy                           0.91     10000\n",
            "   macro avg       0.92      0.91      0.91     10000\n",
            "weighted avg       0.92      0.91      0.91     10000\n",
            "\n",
            "--------------------------------------------------\n",
            "Test accuracy with original_ratio=0.5: 0.9605333333333334\n",
            "[[ 961    0    1    0    2    6    2    4    1    3]\n",
            " [  15 1095    2    7    0    1    3    2   10    0]\n",
            " [  65    6  909    8    8    3    3   10   17    3]\n",
            " [  51    4   22  886    1   21    0    5   13    7]\n",
            " [  43    0    0    1  886    8    7    5    2   30]\n",
            " [  43    1    0   15    6  806    4    4    8    5]\n",
            " [  39    5    2    0    8   27  875    1    0    1]\n",
            " [  38    4   13    2    6    0    0  947    2   16]\n",
            " [  65    4    4    5    4   18    8    5  856    5]\n",
            " [  40    2    0    5   26    8    0    9    3  916]]\n",
            "              precision    recall  f1-score   support\n",
            "\n",
            "           0       0.71      0.98      0.82       980\n",
            "           1       0.98      0.96      0.97      1135\n",
            "           2       0.95      0.88      0.92      1032\n",
            "           3       0.95      0.88      0.91      1010\n",
            "           4       0.94      0.90      0.92       982\n",
            "           5       0.90      0.90      0.90       892\n",
            "           6       0.97      0.91      0.94       958\n",
            "           7       0.95      0.92      0.94      1028\n",
            "           8       0.94      0.88      0.91       974\n",
            "           9       0.93      0.91      0.92      1009\n",
            "\n",
            "    accuracy                           0.91     10000\n",
            "   macro avg       0.92      0.91      0.91     10000\n",
            "weighted avg       0.92      0.91      0.92     10000\n",
            "\n",
            "--------------------------------------------------\n",
            "Test accuracy with original_ratio=0.6: 0.95559375\n",
            "[[ 965    0    2    0    1    4    3    2    3    0]\n",
            " [  11 1107    3    6    0    1    1    1    5    0]\n",
            " [  59    6  917   12    5    3   10    7   13    0]\n",
            " [  53    4   22  899    0   16    2    6    7    1]\n",
            " [  32    3    3    2  886    3   11    5    0   37]\n",
            " [  56    0    2   30    2  770   14    2   12    4]\n",
            " [  38    2    2    0    7    5  901    0    3    0]\n",
            " [  35   17   11    5    6    0    0  940    1   13]\n",
            " [  62    8    5   15    5   18    9    5  843    4]\n",
            " [  34    7    0    7   10    7    1   10    7  926]]\n",
            "              precision    recall  f1-score   support\n",
            "\n",
            "           0       0.72      0.98      0.83       980\n",
            "           1       0.96      0.98      0.97      1135\n",
            "           2       0.95      0.89      0.92      1032\n",
            "           3       0.92      0.89      0.91      1010\n",
            "           4       0.96      0.90      0.93       982\n",
            "           5       0.93      0.86      0.90       892\n",
            "           6       0.95      0.94      0.94       958\n",
            "           7       0.96      0.91      0.94      1028\n",
            "           8       0.94      0.87      0.90       974\n",
            "           9       0.94      0.92      0.93      1009\n",
            "\n",
            "    accuracy                           0.92     10000\n",
            "   macro avg       0.92      0.91      0.92     10000\n",
            "weighted avg       0.92      0.92      0.92     10000\n",
            "\n",
            "--------------------------------------------------\n",
            "Test accuracy with original_ratio=0.7000000000000001: 0.9645980392156863\n",
            "[[ 969    0    2    0    0    1    4    2    2    0]\n",
            " [  13 1112    1    2    0    2    1    0    3    1]\n",
            " [  51    2  953    5    0    1    6    4    9    1]\n",
            " [  39    2   27  902    0   21    0   10    8    1]\n",
            " [  33    1    3    2  905    0   10    2    3   23]\n",
            " [  56    4    1   22    4  778    9    2   11    5]\n",
            " [  36    2    1    0    1    6  908    0    4    0]\n",
            " [  40    6   15    3    1    0    1  955    0    7]\n",
            " [  55    7    1    8    9   11   12    3  866    2]\n",
            " [  33    4    0    5   23    5    2   11   17  909]]\n",
            "              precision    recall  f1-score   support\n",
            "\n",
            "           0       0.73      0.99      0.84       980\n",
            "           1       0.98      0.98      0.98      1135\n",
            "           2       0.95      0.92      0.94      1032\n",
            "           3       0.95      0.89      0.92      1010\n",
            "           4       0.96      0.92      0.94       982\n",
            "           5       0.94      0.87      0.91       892\n",
            "           6       0.95      0.95      0.95       958\n",
            "           7       0.97      0.93      0.95      1028\n",
            "           8       0.94      0.89      0.91       974\n",
            "           9       0.96      0.90      0.93      1009\n",
            "\n",
            "    accuracy                           0.93     10000\n",
            "   macro avg       0.93      0.92      0.93     10000\n",
            "weighted avg       0.93      0.93      0.93     10000\n",
            "\n",
            "--------------------------------------------------\n",
            "Test accuracy with original_ratio=0.8: 0.9668888888888889\n",
            "[[ 957    0    3    1    2    2    9    1    3    2]\n",
            " [  13 1101   10    1    0    1    1    3    5    0]\n",
            " [  58    7  923    7   10    1    6    7   12    1]\n",
            " [  12    0   11  946    0   28    0    7    5    1]\n",
            " [  42    1    4    0  888    0   15    4    4   24]\n",
            " [  42    4    0   50    2  745   11    0   27   11]\n",
            " [  35    2    7    0    9    1  901    0    3    0]\n",
            " [  31    2   16    5    5    0    0  950    2   17]\n",
            " [  48    7   14    3    5   21   12    9  852    3]\n",
            " [  35    6    0   17   24   13    1   21    3  889]]\n",
            "              precision    recall  f1-score   support\n",
            "\n",
            "           0       0.75      0.98      0.85       980\n",
            "           1       0.97      0.97      0.97      1135\n",
            "           2       0.93      0.89      0.91      1032\n",
            "           3       0.92      0.94      0.93      1010\n",
            "           4       0.94      0.90      0.92       982\n",
            "           5       0.92      0.84      0.87       892\n",
            "           6       0.94      0.94      0.94       958\n",
            "           7       0.95      0.92      0.94      1028\n",
            "           8       0.93      0.87      0.90       974\n",
            "           9       0.94      0.88      0.91      1009\n",
            "\n",
            "    accuracy                           0.92     10000\n",
            "   macro avg       0.92      0.91      0.91     10000\n",
            "weighted avg       0.92      0.92      0.92     10000\n",
            "\n",
            "--------------------------------------------------\n",
            "Test accuracy with original_ratio=0.9: 0.9614912280701754\n",
            "[[ 957    0    1    0    0   12    6    3    1    0]\n",
            " [  17 1100    4    0    0    1    4    2    7    0]\n",
            " [  60   11  910    7    3    4    6   11   17    3]\n",
            " [  56    3   11  875    0   38    0    6   17    4]\n",
            " [  42    4    0    0  877    2   12    5    8   32]\n",
            " [  40    0    2   36    6  764    8    1   27    8]\n",
            " [  27    2    0    0    6    7  909    1    6    0]\n",
            " [  39    5   16    5    5    1    0  941    1   15]\n",
            " [  70    7    3    2    2   18    5    3  856    8]\n",
            " [  50    0    0    5   16    3    0   12    7  916]]\n",
            "              precision    recall  f1-score   support\n",
            "\n",
            "           0       0.70      0.98      0.82       980\n",
            "           1       0.97      0.97      0.97      1135\n",
            "           2       0.96      0.88      0.92      1032\n",
            "           3       0.94      0.87      0.90      1010\n",
            "           4       0.96      0.89      0.92       982\n",
            "           5       0.90      0.86      0.88       892\n",
            "           6       0.96      0.95      0.95       958\n",
            "           7       0.96      0.92      0.93      1028\n",
            "           8       0.90      0.88      0.89       974\n",
            "           9       0.93      0.91      0.92      1009\n",
            "\n",
            "    accuracy                           0.91     10000\n",
            "   macro avg       0.92      0.91      0.91     10000\n",
            "weighted avg       0.92      0.91      0.91     10000\n",
            "\n",
            "--------------------------------------------------\n",
            "Test accuracy with original_ratio=1.0: 0.9666583333333333\n",
            "[[ 964    1    2    0    0    2    7    1    3    0]\n",
            " [   9 1111    4    1    1    0    1    1    7    0]\n",
            " [  53    5  932   10    8    2    4    4   13    1]\n",
            " [  39    4   23  916    0   15    0    7    4    2]\n",
            " [  21    1    6    0  911    1   16    2    2   22]\n",
            " [  52    2    6   17    8  770   15    2   12    8]\n",
            " [  38    2    4    0    4    9  899    0    2    0]\n",
            " [  36    8   19    6    8    1    0  936    2   12]\n",
            " [  70   10    7   10    5   14    4    2  847    5]\n",
            " [  41    5    0    3   26   12    0   12    6  904]]\n",
            "              precision    recall  f1-score   support\n",
            "\n",
            "           0       0.73      0.98      0.84       980\n",
            "           1       0.97      0.98      0.97      1135\n",
            "           2       0.93      0.90      0.92      1032\n",
            "           3       0.95      0.91      0.93      1010\n",
            "           4       0.94      0.93      0.93       982\n",
            "           5       0.93      0.86      0.90       892\n",
            "           6       0.95      0.94      0.94       958\n",
            "           7       0.97      0.91      0.94      1028\n",
            "           8       0.94      0.87      0.90       974\n",
            "           9       0.95      0.90      0.92      1009\n",
            "\n",
            "    accuracy                           0.92     10000\n",
            "   macro avg       0.93      0.92      0.92     10000\n",
            "weighted avg       0.93      0.92      0.92     10000\n",
            "\n",
            "--------------------------------------------------\n"
          ]
        }
      ]
    },
    {
      "cell_type": "code",
      "source": [],
      "metadata": {
        "id": "sNKbGAe_er0w"
      },
      "execution_count": null,
      "outputs": []
    }
  ]
}