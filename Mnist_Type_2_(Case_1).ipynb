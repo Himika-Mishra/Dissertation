{
  "nbformat": 4,
  "nbformat_minor": 0,
  "metadata": {
    "colab": {
      "provenance": [],
      "authorship_tag": "ABX9TyNYoF1gZpnikuqvl5fleFE4",
      "include_colab_link": true
    },
    "kernelspec": {
      "name": "python3",
      "display_name": "Python 3"
    },
    "language_info": {
      "name": "python"
    }
  },
  "cells": [
    {
      "cell_type": "markdown",
      "metadata": {
        "id": "view-in-github",
        "colab_type": "text"
      },
      "source": [
        "<a href=\"https://colab.research.google.com/github/Himika-Mishra/Dissertation/blob/main/Mnist_Type_2_(Case_1).ipynb\" target=\"_parent\"><img src=\"https://colab.research.google.com/assets/colab-badge.svg\" alt=\"Open In Colab\"/></a>"
      ]
    },
    {
      "cell_type": "markdown",
      "source": [
        "# Type 2 (Case 1)"
      ],
      "metadata": {
        "id": "qe45xfC1DdF1"
      }
    },
    {
      "cell_type": "code",
      "source": [
        "from sklearn.neural_network import MLPClassifier\n",
        "from keras.datasets import mnist\n",
        "from sklearn.model_selection import train_test_split\n",
        "from sklearn.preprocessing import StandardScaler\n",
        "import numpy as np\n",
        "from sklearn.preprocessing import OneHotEncoder\n",
        "from sklearn.metrics import confusion_matrix\n",
        "from sklearn.metrics import classification_report\n",
        "from sklearn.metrics import f1_score\n",
        "\n",
        "# Load the MNIST dataset\n",
        "(X_train, y_train), (X_test, y_test) = mnist.load_data()\n",
        "\n",
        "# Filter images and labels for digits 0 to 6\n",
        "mask_train = np.isin(y_train, [0, 1, 2, 3, 4, 5, 6])\n",
        "X_train = X_train[mask_train]\n",
        "y_train = y_train[mask_train]\n",
        "\n",
        "# Reshape the images to 784-dimensional vectors\n",
        "X_test = X_test.reshape(X_test.shape[0], -1).astype('float32') / 255\n",
        "X_train = X_train.reshape(X_train.shape[0], -1).astype('float32') / 255\n",
        "\n",
        "# Create separate instances of OneHotEncoder for training and testing sets\n",
        "encoder_train = OneHotEncoder(categories=[range(10)])\n",
        "encoder_test = OneHotEncoder(categories=[range(10)])\n",
        "\n",
        "# Fit the encoders on the respective datasets\n",
        "encoder_train.fit(y_train.reshape((-1, 1)))\n",
        "encoder_test.fit(y_test.reshape((-1, 1)))\n",
        "\n",
        "# Transform the labels in the training set\n",
        "y_train_encoded = encoder_train.transform(y_train.reshape((-1, 1))).toarray()\n",
        "\n",
        "# Transform the labels in the testing set\n",
        "y_test_encoded = encoder_test.transform(y_test.reshape((-1, 1))).toarray()\n",
        "\n",
        "# Create an instance of the MLP classifier\n",
        "mlp = MLPClassifier(hidden_layer_sizes=(10,8), activation='relu', solver='adam', max_iter=500)\n",
        "\n",
        "# Train the classifier on the training data\n",
        "mlp.fit(X_train, y_train_encoded)\n",
        "\n",
        "# Evaluate the classifier on the testing data\n",
        "accuracy = mlp.score(X_test, y_test_encoded)\n",
        "print(f\"Accuracy with (0 to 6) labels on the training and testing with the original dataset: {accuracy}\")"
      ],
      "metadata": {
        "colab": {
          "base_uri": "https://localhost:8080/"
        },
        "id": "oEZXnORCaDIU",
        "outputId": "e5418136-ed46-4eb6-d6ad-db7e755ca884"
      },
      "execution_count": 2,
      "outputs": [
        {
          "output_type": "stream",
          "name": "stdout",
          "text": [
            "Downloading data from https://storage.googleapis.com/tensorflow/tf-keras-datasets/mnist.npz\n",
            "11490434/11490434 [==============================] - 0s 0us/step\n",
            "Accuracy with (0 to 6) labels on the training and testing with the original dataset: 0.6596\n"
          ]
        }
      ]
    },
    {
      "cell_type": "code",
      "source": [
        "# predictions\n",
        "pred = mlp.predict(X_test)\n",
        "print(confusion_matrix(y_test_encoded.argmax(axis=1), pred.argmax(axis=1)))\n",
        "print(classification_report(y_test_encoded.argmax(axis=1), pred.argmax(axis=1)))\n",
        "print(\"--------------------------------------------------\")"
      ],
      "metadata": {
        "colab": {
          "base_uri": "https://localhost:8080/"
        },
        "id": "Dn47TWBVhQZk",
        "outputId": "26af4b65-74c6-4cac-ea8a-a0d48140b965"
      },
      "execution_count": 3,
      "outputs": [
        {
          "output_type": "stream",
          "name": "stdout",
          "text": [
            "[[ 963    0    3    3    1    5    5    0    0    0]\n",
            " [   5 1120    3    1    0    3    3    0    0    0]\n",
            " [  35    5  957   15    8    4    8    0    0    0]\n",
            " [  24    3   11  950    2   18    2    0    0    0]\n",
            " [  17    5   16    4  920    4   16    0    0    0]\n",
            " [  34    2    0   22    8  818    8    0    0    0]\n",
            " [  23    3    5    1   16   13  897    0    0    0]\n",
            " [ 155   29  221  395   94  132    2    0    0    0]\n",
            " [ 229   55   67  250   80  276   17    0    0    0]\n",
            " [ 156   19   19  113  578  112   12    0    0    0]]\n",
            "              precision    recall  f1-score   support\n",
            "\n",
            "           0       0.59      0.98      0.73       980\n",
            "           1       0.90      0.99      0.94      1135\n",
            "           2       0.74      0.93      0.82      1032\n",
            "           3       0.54      0.94      0.69      1010\n",
            "           4       0.54      0.94      0.68       982\n",
            "           5       0.59      0.92      0.72       892\n",
            "           6       0.92      0.94      0.93       958\n",
            "           7       0.00      0.00      0.00      1028\n",
            "           8       0.00      0.00      0.00       974\n",
            "           9       0.00      0.00      0.00      1009\n",
            "\n",
            "    accuracy                           0.66     10000\n",
            "   macro avg       0.48      0.66      0.55     10000\n",
            "weighted avg       0.48      0.66      0.55     10000\n",
            "\n",
            "--------------------------------------------------\n"
          ]
        },
        {
          "output_type": "stream",
          "name": "stderr",
          "text": [
            "/usr/local/lib/python3.10/dist-packages/sklearn/metrics/_classification.py:1344: UndefinedMetricWarning: Precision and F-score are ill-defined and being set to 0.0 in labels with no predicted samples. Use `zero_division` parameter to control this behavior.\n",
            "  _warn_prf(average, modifier, msg_start, len(result))\n",
            "/usr/local/lib/python3.10/dist-packages/sklearn/metrics/_classification.py:1344: UndefinedMetricWarning: Precision and F-score are ill-defined and being set to 0.0 in labels with no predicted samples. Use `zero_division` parameter to control this behavior.\n",
            "  _warn_prf(average, modifier, msg_start, len(result))\n",
            "/usr/local/lib/python3.10/dist-packages/sklearn/metrics/_classification.py:1344: UndefinedMetricWarning: Precision and F-score are ill-defined and being set to 0.0 in labels with no predicted samples. Use `zero_division` parameter to control this behavior.\n",
            "  _warn_prf(average, modifier, msg_start, len(result))\n"
          ]
        }
      ]
    },
    {
      "cell_type": "code",
      "source": [
        "# Initialize lists to store the ratio and F1 scores\n",
        "ratios = [1]\n",
        "f1_scores = []\n",
        "classification_reports = []"
      ],
      "metadata": {
        "id": "yXQ2FpAXoj38"
      },
      "execution_count": 4,
      "outputs": []
    },
    {
      "cell_type": "code",
      "source": [
        "# Calculate F1 score and store the ratio, F1 score, and classification report\n",
        "f1 = f1_score(y_test_encoded.argmax(axis=1), pred.argmax(axis=1), average='weighted')\n",
        "# ratios.append(ratio)\n",
        "f1_scores.append(f1)\n",
        "classification_reports.append(classification_report(y_test_encoded.argmax(axis=1), pred.argmax(axis=1), output_dict=True))"
      ],
      "metadata": {
        "colab": {
          "base_uri": "https://localhost:8080/"
        },
        "id": "6OmFcraeZJtt",
        "outputId": "80d7d949-2d23-4d2c-a6bf-3b870df882a4"
      },
      "execution_count": 5,
      "outputs": [
        {
          "output_type": "stream",
          "name": "stderr",
          "text": [
            "/usr/local/lib/python3.10/dist-packages/sklearn/metrics/_classification.py:1344: UndefinedMetricWarning: Precision and F-score are ill-defined and being set to 0.0 in labels with no predicted samples. Use `zero_division` parameter to control this behavior.\n",
            "  _warn_prf(average, modifier, msg_start, len(result))\n",
            "/usr/local/lib/python3.10/dist-packages/sklearn/metrics/_classification.py:1344: UndefinedMetricWarning: Precision and F-score are ill-defined and being set to 0.0 in labels with no predicted samples. Use `zero_division` parameter to control this behavior.\n",
            "  _warn_prf(average, modifier, msg_start, len(result))\n",
            "/usr/local/lib/python3.10/dist-packages/sklearn/metrics/_classification.py:1344: UndefinedMetricWarning: Precision and F-score are ill-defined and being set to 0.0 in labels with no predicted samples. Use `zero_division` parameter to control this behavior.\n",
            "  _warn_prf(average, modifier, msg_start, len(result))\n"
          ]
        }
      ]
    },
    {
      "cell_type": "code",
      "source": [
        "import matplotlib.pyplot as plt"
      ],
      "metadata": {
        "id": "ibAjIyBxpj-x"
      },
      "execution_count": 7,
      "outputs": []
    },
    {
      "cell_type": "code",
      "source": [
        "# Plot the ratio vs. F1 score\n",
        "# plt.figure(figsize=(12, 4))\n",
        "plt.figure(figsize=(20, 10))\n",
        "plt.subplot(1, 3, 1)\n",
        "plt.plot(ratios, f1_scores, marker='o')\n",
        "plt.xlabel('Ratio')\n",
        "plt.ylabel('F1 Score')\n",
        "plt.title('Ratio vs. F1 Score')\n",
        "plt.grid(True)"
      ],
      "metadata": {
        "colab": {
          "base_uri": "https://localhost:8080/",
          "height": 872
        },
        "id": "oZWgG0-bpbNt",
        "outputId": "cf780183-868f-43dc-8ce3-29275b926bcc"
      },
      "execution_count": 8,
      "outputs": [
        {
          "output_type": "display_data",
          "data": {
            "text/plain": [
              "<Figure size 2000x1000 with 1 Axes>"
            ],
            "image/png": "[encoded data removed]"
          },
          "metadata": {}
        }
      ]
    },
    {
      "cell_type": "code",
      "source": [],
      "metadata": {
        "id": "kls3dU3spg14"
      },
      "execution_count": null,
      "outputs": []
    }
  ]
}