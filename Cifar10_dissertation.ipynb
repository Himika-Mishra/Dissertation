{
  "cells": [
    {
      "cell_type": "markdown",
      "metadata": {
        "id": "view-in-github",
        "colab_type": "text"
      },
      "source": [
        "<a href=\"https://colab.research.google.com/github/Himika-Mishra/Dissertation/blob/main/Cifar10_dissertation.ipynb\" target=\"_parent\"><img src=\"https://colab.research.google.com/assets/colab-badge.svg\" alt=\"Open In Colab\"/></a>"
      ]
    },
    {
      "cell_type": "code",
      "execution_count": null,
      "metadata": {
        "id": "dPkY_Ul_TTZn"
      },
      "outputs": [],
      "source": [
        "import keras\n",
        "import numpy as np\n",
        "import pandas as pd\n",
        "import matplotlib.pyplot as plt\n",
        "from tensorflow.keras.datasets import cifar10\n",
        "from keras.models import Sequential\n",
        "from keras.layers import Dense, Flatten\n",
        "from keras.layers import Dense, Dropout\n",
        "from keras.optimizers import SGD\n",
        "from keras.preprocessing.image import ImageDataGenerator\n",
        "from sklearn.metrics import confusion_matrix\n",
        "from sklearn.metrics import classification_report\n",
        "from sklearn.neural_network import MLPClassifier\n",
        "from sklearn.datasets import fetch_openml\n",
        "from sklearn.model_selection import train_test_split\n",
        "from sklearn.metrics import accuracy_score\n",
        "from keras.utils import to_categorical"
      ]
    },
    {
      "cell_type": "code",
      "execution_count": null,
      "metadata": {
        "id": "HPIK4S3PTYG-"
      },
      "outputs": [],
      "source": [
        "# Load the CIFAR-10 dataset\n",
        "(X_train, y_train), (X_test, y_test) = cifar10.load_data()"
      ]
    },
    {
      "cell_type": "code",
      "execution_count": null,
      "metadata": {
        "id": "l78qv9lJTclc"
      },
      "outputs": [],
      "source": [
        "# Normalize the pixel values to the range [0, 1]\n",
        "X_train = X_train.astype('float32') / 255.0\n",
        "X_test = X_test.astype('float32') / 255.0"
      ]
    },
    {
      "cell_type": "code",
      "execution_count": null,
      "metadata": {
        "colab": {
          "base_uri": "https://localhost:8080/"
        },
        "id": "HJ02vYo4RUOj",
        "outputId": "532534b4-1b06-42e6-99dd-6a8acb3d55eb"
      },
      "outputs": [
        {
          "data": {
            "text/plain": [
              "(10000, 1)"
            ]
          },
          "execution_count": 4,
          "metadata": {},
          "output_type": "execute_result"
        }
      ],
      "source": [
        "y_test.shape"
      ]
    },
    {
      "cell_type": "code",
      "execution_count": null,
      "metadata": {
        "id": "k6DaTT-nQ53Y"
      },
      "outputs": [],
      "source": [
        "# Append the target arrays\n",
        "y = np.concatenate((y_train, y_test))"
      ]
    },
    {
      "cell_type": "code",
      "execution_count": null,
      "metadata": {
        "id": "mkrHsbVhQ6Li"
      },
      "outputs": [],
      "source": [
        "# One-hot encode the target arrays\n",
        "num_classes = 10\n",
        "# y_onehot = np.eye(num_classes)[y]\n",
        "y_onehot = to_categorical(y, num_classes)"
      ]
    },
    {
      "cell_type": "code",
      "execution_count": null,
      "metadata": {
        "id": "lJD2rsIURP40"
      },
      "outputs": [],
      "source": [
        "# Splitting the encoded labels into train and test\n",
        "y_train = y_onehot[:50000]\n",
        "y_test = y_onehot[-10000:]"
      ]
    },
    {
      "cell_type": "code",
      "execution_count": null,
      "metadata": {
        "id": "5h2sPg4viyR6"
      },
      "outputs": [],
      "source": [
        "num_classes = 10\n",
        "y_train = to_categorical(y_train, num_classes)\n",
        "y_test = to_categorical(y_test, num_classes)"
      ]
    },
    {
      "cell_type": "code",
      "execution_count": null,
      "metadata": {
        "id": "3TQvL9y3TrXn"
      },
      "outputs": [],
      "source": [
        "# Original ratio values\n",
        "original_ratio_values = np.arange(0.1, 1.1, 0.1)"
      ]
    },
    {
      "cell_type": "code",
      "execution_count": null,
      "metadata": {
        "colab": {
          "background_save": true,
          "base_uri": "https://localhost:8080/"
        },
        "id": "am92CJ0KTsh2",
        "outputId": "601e9a08-9cf4-4ac0-8020-90c0268c6eaf"
      },
      "outputs": [
        {
          "name": "stderr",
          "output_type": "stream",
          "text": [
            "/usr/local/lib/python3.10/dist-packages/sklearn/neural_network/_multilayer_perceptron.py:686: ConvergenceWarning: Stochastic Optimizer: Maximum iterations (200) reached and the optimization hasn't converged yet.\n",
            "  warnings.warn(\n"
          ]
        },
        {
          "name": "stdout",
          "output_type": "stream",
          "text": [
            "Original Ratio: 0.1\n",
            "Test Accuracy: 19.14%\n",
            "[[754  28  25   6   0   0  12  15 146  14]\n",
            " [533 302   2   2   4  11  17  19  63  47]\n",
            " [716  23  86  10  10  18  69  33  27   8]\n",
            " [714  16  20  38   8  61  81  18  22  22]\n",
            " [745   6  45   3  36   3 104  32  22   4]\n",
            " [636  16  21  50   7 148  53  34  25  10]\n",
            " [604   9  14  28   7   8 290  16  13  11]\n",
            " [609  11  31  13  24  32  23 216  17  24]\n",
            " [443  56   2   5   3   8   6   4 445  28]\n",
            " [501 165   2   2   4   8  21  15  74 208]]\n",
            "              precision    recall  f1-score   support\n",
            "\n",
            "           0       0.12      0.75      0.21      1000\n",
            "           1       0.48      0.30      0.37      1000\n",
            "           2       0.35      0.09      0.14      1000\n",
            "           3       0.24      0.04      0.07      1000\n",
            "           4       0.35      0.04      0.07      1000\n",
            "           5       0.50      0.15      0.23      1000\n",
            "           6       0.43      0.29      0.35      1000\n",
            "           7       0.54      0.22      0.31      1000\n",
            "           8       0.52      0.45      0.48      1000\n",
            "           9       0.55      0.21      0.30      1000\n",
            "\n",
            "    accuracy                           0.25     10000\n",
            "   macro avg       0.41      0.25      0.25     10000\n",
            "weighted avg       0.41      0.25      0.25     10000\n",
            "\n",
            "--------------------------------------------------\n"
          ]
        },
        {
          "name": "stderr",
          "output_type": "stream",
          "text": [
            "/usr/local/lib/python3.10/dist-packages/sklearn/neural_network/_multilayer_perceptron.py:686: ConvergenceWarning: Stochastic Optimizer: Maximum iterations (200) reached and the optimization hasn't converged yet.\n",
            "  warnings.warn(\n"
          ]
        },
        {
          "name": "stdout",
          "output_type": "stream",
          "text": [
            "Original Ratio: 0.2\n",
            "Test Accuracy: 15.21%\n",
            "[[840  19   5   4   2   0   8  16  94  12]\n",
            " [523 339   2   3   1   1  12  18  30  71]\n",
            " [866  18  27   8   8   0  24  35  11   3]\n",
            " [899   9   2  36   1   0  14  14  10  15]\n",
            " [891   7  13   0  18   0  12  43  12   4]\n",
            " [858  13   5  57   2   1  21  28   9   6]\n",
            " [857   6   5  17   6   0  92   6   3   8]\n",
            " [661  15   8   6   2   0   5 274  11  18]\n",
            " [582  49   1   9   0   1   3   6 318  31]\n",
            " [565 145   0   5   1   0  15  25  36 208]]\n",
            "              precision    recall  f1-score   support\n",
            "\n",
            "           0       0.11      0.84      0.20      1000\n",
            "           1       0.55      0.34      0.42      1000\n",
            "           2       0.40      0.03      0.05      1000\n",
            "           3       0.25      0.04      0.06      1000\n",
            "           4       0.44      0.02      0.03      1000\n",
            "           5       0.33      0.00      0.00      1000\n",
            "           6       0.45      0.09      0.15      1000\n",
            "           7       0.59      0.27      0.37      1000\n",
            "           8       0.60      0.32      0.41      1000\n",
            "           9       0.55      0.21      0.30      1000\n",
            "\n",
            "    accuracy                           0.22     10000\n",
            "   macro avg       0.43      0.22      0.20     10000\n",
            "weighted avg       0.43      0.22      0.20     10000\n",
            "\n",
            "--------------------------------------------------\n"
          ]
        },
        {
          "name": "stderr",
          "output_type": "stream",
          "text": [
            "/usr/local/lib/python3.10/dist-packages/sklearn/neural_network/_multilayer_perceptron.py:686: ConvergenceWarning: Stochastic Optimizer: Maximum iterations (200) reached and the optimization hasn't converged yet.\n",
            "  warnings.warn(\n"
          ]
        },
        {
          "name": "stdout",
          "output_type": "stream",
          "text": [
            "Original Ratio: 0.3\n",
            "Test Accuracy: 18.43%\n",
            "[[843   5   3   1   1   1  15  14 107  10]\n",
            " [654 215   0   1   1   2  17  10  39  61]\n",
            " [817   5  30   5   3   8  76  35  15   6]\n",
            " [789   7   4  33   2  37  92  17  10   9]\n",
            " [824   2  19   2  20   4  80  31  14   4]\n",
            " [749   6   9  31   3 107  55  28   9   3]\n",
            " [637   2   3  10   1   6 327   8   5   1]\n",
            " [675   3   1   6   6  11  26 234  13  25]\n",
            " [521  13   0   1   0  13   7   1 419  25]\n",
            " [586  81   0   3   1   7  24  20  66 212]]\n",
            "              precision    recall  f1-score   support\n",
            "\n",
            "           0       0.12      0.84      0.21      1000\n",
            "           1       0.63      0.21      0.32      1000\n",
            "           2       0.43      0.03      0.06      1000\n",
            "           3       0.35      0.03      0.06      1000\n",
            "           4       0.53      0.02      0.04      1000\n",
            "           5       0.55      0.11      0.18      1000\n",
            "           6       0.45      0.33      0.38      1000\n",
            "           7       0.59      0.23      0.33      1000\n",
            "           8       0.60      0.42      0.49      1000\n",
            "           9       0.60      0.21      0.31      1000\n",
            "\n",
            "    accuracy                           0.24     10000\n",
            "   macro avg       0.49      0.24      0.24     10000\n",
            "weighted avg       0.49      0.24      0.24     10000\n",
            "\n",
            "--------------------------------------------------\n"
          ]
        },
        {
          "name": "stderr",
          "output_type": "stream",
          "text": [
            "/usr/local/lib/python3.10/dist-packages/sklearn/neural_network/_multilayer_perceptron.py:686: ConvergenceWarning: Stochastic Optimizer: Maximum iterations (200) reached and the optimization hasn't converged yet.\n",
            "  warnings.warn(\n"
          ]
        },
        {
          "name": "stdout",
          "output_type": "stream",
          "text": [
            "Original Ratio: 0.4\n",
            "Test Accuracy: 9.87%\n",
            "[[871  19   0   0   0   0  10   3  89   8]\n",
            " [694 236   0   0   0   1   9   4  26  30]\n",
            " [925   9   0   0   0   0  31  20   6   9]\n",
            " [905  12   0  10   0   7  41  10   2  13]\n",
            " [927   4   0   0   0   0  40  16   8   5]\n",
            " [884  11   0  12   0  30  36  19   4   4]\n",
            " [827  11   0   1   0   1 149   4   1   6]\n",
            " [819  13   0   0   0   3  11 126   6  22]\n",
            " [765  37   0   1   0   1   0   0 187   9]\n",
            " [750 123   0   0   0   0   9   4  25  89]]\n",
            "              precision    recall  f1-score   support\n",
            "\n",
            "           0       0.10      0.87      0.19      1000\n",
            "           1       0.50      0.24      0.32      1000\n",
            "           2       0.00      0.00      0.00      1000\n",
            "           3       0.42      0.01      0.02      1000\n",
            "           4       0.00      0.00      0.00      1000\n",
            "           5       0.70      0.03      0.06      1000\n",
            "           6       0.44      0.15      0.22      1000\n",
            "           7       0.61      0.13      0.21      1000\n",
            "           8       0.53      0.19      0.28      1000\n",
            "           9       0.46      0.09      0.15      1000\n",
            "\n",
            "    accuracy                           0.17     10000\n",
            "   macro avg       0.38      0.17      0.14     10000\n",
            "weighted avg       0.38      0.17      0.14     10000\n",
            "\n",
            "--------------------------------------------------\n"
          ]
        },
        {
          "name": "stderr",
          "output_type": "stream",
          "text": [
            "/usr/local/lib/python3.10/dist-packages/sklearn/metrics/_classification.py:1344: UndefinedMetricWarning: Precision and F-score are ill-defined and being set to 0.0 in labels with no predicted samples. Use `zero_division` parameter to control this behavior.\n",
            "  _warn_prf(average, modifier, msg_start, len(result))\n",
            "/usr/local/lib/python3.10/dist-packages/sklearn/metrics/_classification.py:1344: UndefinedMetricWarning: Precision and F-score are ill-defined and being set to 0.0 in labels with no predicted samples. Use `zero_division` parameter to control this behavior.\n",
            "  _warn_prf(average, modifier, msg_start, len(result))\n",
            "/usr/local/lib/python3.10/dist-packages/sklearn/metrics/_classification.py:1344: UndefinedMetricWarning: Precision and F-score are ill-defined and being set to 0.0 in labels with no predicted samples. Use `zero_division` parameter to control this behavior.\n",
            "  _warn_prf(average, modifier, msg_start, len(result))\n"
          ]
        }
      ],
      "source": [
        "for original_ratio in original_ratio_values:\n",
        "\n",
        "    # Generate highly noisy images\n",
        "    noise_images = np.random.random_sample(X_train.shape)\n",
        "    num_original_images = int(X_train.shape[0] * original_ratio)\n",
        "    original_indices = np.random.choice(X_train.shape[0], size=num_original_images, replace=False)\n",
        "    original_images = X_train[original_indices]\n",
        "    original_labels = y_train[original_indices]\n",
        "    num_noisy_images = num_original_images  # Set the number of noisy images to match the number of original images\n",
        "    noisy_labels = np.zeros((num_noisy_images, num_classes))\n",
        "    X_train_current = np.concatenate([original_images, noise_images[:num_noisy_images]], axis=0)\n",
        "    y_train_current = np.concatenate([original_labels, noisy_labels], axis=0)\n",
        "\n",
        "    # Flatten the image arrays\n",
        "    X_train_current = X_train_current.reshape(X_train_current.shape[0], -1)\n",
        "    X_test_flattened = X_test.reshape(X_test.shape[0], -1)\n",
        "\n",
        "    # Create and train the MLPClassifier\n",
        "    model = MLPClassifier(hidden_layer_sizes=(32, 24), activation='relu', solver='adam')\n",
        "    model.fit(X_train_current, y_train_current)\n",
        "\n",
        "    # Make predictions on the test set\n",
        "    y_pred = model.predict(X_test_flattened)\n",
        "\n",
        "    # Calculate accuracy\n",
        "    accuracy = accuracy_score(y_test, y_pred)\n",
        "\n",
        "    print(f'Original Ratio: {original_ratio:.1f}')\n",
        "    print(f'Test Accuracy: {accuracy * 100:.2f}%')\n",
        "    \n",
        "    # Fit a regular MLP classifier\n",
        "    # mlp = MLPClassifier(hidden_layer_sizes=(10,8), activation='relu', solver='adam', max_iter=100)\n",
        "    # mlp.fit(X_train_current, y_train_current)\n",
        "    # # Accuracy Score\n",
        "    # test_acc = mlp.score(X_train_current, y_train_current)\n",
        "    # # print(mlp.score(X_train_current, y_train_current))\n",
        "    # print(f\"Test accuracy with original_ratio={original_ratio}: {test_acc}\")\n",
        "\n",
        "    # predictions\n",
        "    pred = model.predict(X_test_flattened)\n",
        "    print(confusion_matrix(y_test.argmax(axis=1), pred.argmax(axis=1)))\n",
        "    print(classification_report(y_test.argmax(axis=1), pred.argmax(axis=1)))\n",
        "    print(\"--------------------------------------------------\")"
      ]
    },
    {
      "cell_type": "code",
      "execution_count": null,
      "metadata": {
        "id": "zIaTPgf4iKtW"
      },
      "outputs": [],
      "source": []
    }
  ],
  "metadata": {
    "colab": {
      "provenance": [],
      "authorship_tag": "ABX9TyMQ+DAw3WCyEl9DbkN5rPWR",
      "include_colab_link": true
    },
    "kernelspec": {
      "display_name": "Python 3",
      "name": "python3"
    },
    "language_info": {
      "name": "python"
    }
  },
  "nbformat": 4,
  "nbformat_minor": 0
}