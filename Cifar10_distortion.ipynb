{
  "nbformat": 4,
  "nbformat_minor": 0,
  "metadata": {
    "colab": {
      "provenance": [],
      "authorship_tag": "ABX9TyNAn49Mi4Fk4dj1270TtAlt",
      "include_colab_link": true
    },
    "kernelspec": {
      "name": "python3",
      "display_name": "Python 3"
    },
    "language_info": {
      "name": "python"
    }
  },
  "cells": [
    {
      "cell_type": "markdown",
      "metadata": {
        "id": "view-in-github",
        "colab_type": "text"
      },
      "source": [
        "<a href=\"https://colab.research.google.com/github/Himika-Mishra/Dissertation/blob/main/Cifar10_distortion.ipynb\" target=\"_parent\"><img src=\"https://colab.research.google.com/assets/colab-badge.svg\" alt=\"Open In Colab\"/></a>"
      ]
    },
    {
      "cell_type": "code",
      "execution_count": 2,
      "metadata": {
        "id": "5OvcFI5xeyzG"
      },
      "outputs": [],
      "source": [
        "import keras\n",
        "import numpy as np\n",
        "import pandas as pd\n",
        "import matplotlib.pyplot as plt\n",
        "from tensorflow.keras.datasets import cifar10\n",
        "from keras.models import Sequential\n",
        "from keras.layers import Dense, Flatten\n",
        "from keras.layers import Dense, Dropout\n",
        "from keras.optimizers import SGD\n",
        "from keras.preprocessing.image import ImageDataGenerator\n",
        "from sklearn.metrics import confusion_matrix\n",
        "from sklearn.metrics import classification_report\n",
        "from sklearn.neural_network import MLPClassifier\n",
        "from sklearn.datasets import fetch_openml\n",
        "from sklearn.model_selection import train_test_split\n",
        "from sklearn.metrics import accuracy_score\n",
        "from keras.utils import to_categorical\n",
        "import tqdm\n",
        "from skimage.util import random_noise\n",
        "import random"
      ]
    },
    {
      "cell_type": "code",
      "source": [
        "# Load the CIFAR-10 dataset\n",
        "(X_train, y_train), (X_test, y_test) = cifar10.load_data()"
      ],
      "metadata": {
        "colab": {
          "base_uri": "https://localhost:8080/"
        },
        "id": "BewyKyiQe3m7",
        "outputId": "1a0309c4-102b-48a3-e3de-f5c87fb4125f"
      },
      "execution_count": 3,
      "outputs": [
        {
          "output_type": "stream",
          "name": "stdout",
          "text": [
            "Downloading data from https://www.cs.toronto.edu/~kriz/cifar-10-python.tar.gz\n",
            "170498071/170498071 [==============================] - 11s 0us/step\n"
          ]
        }
      ]
    },
    {
      "cell_type": "code",
      "source": [
        "# Normalize the pixel values to the range [0, 1]\n",
        "X_train = X_train.astype('float32') / 255.0\n",
        "X_test = X_test.astype('float32') / 255.0"
      ],
      "metadata": {
        "id": "OXwTHK2Oe6pQ"
      },
      "execution_count": 4,
      "outputs": []
    },
    {
      "cell_type": "code",
      "source": [
        "# Append the target arrays\n",
        "y = np.concatenate((y_train, y_test))"
      ],
      "metadata": {
        "id": "lo7HnE1Me9eD"
      },
      "execution_count": 5,
      "outputs": []
    },
    {
      "cell_type": "code",
      "source": [
        "# One-hot encode the target arrays\n",
        "num_classes = 10\n",
        "y_onehot = np.eye(num_classes)[y]\n",
        "# y_onehot = to_categorical(y, num_classes)"
      ],
      "metadata": {
        "id": "huAkIgRKfBSc"
      },
      "execution_count": 6,
      "outputs": []
    },
    {
      "cell_type": "code",
      "source": [
        "# Splitting the encoded labels into train and test\n",
        "y_train = y_onehot[:50000]\n",
        "y_test = y_onehot[-10000:]"
      ],
      "metadata": {
        "id": "QCYmbMv9fI3g"
      },
      "execution_count": 7,
      "outputs": []
    },
    {
      "cell_type": "code",
      "source": [
        "y_train.shape"
      ],
      "metadata": {
        "colab": {
          "base_uri": "https://localhost:8080/"
        },
        "id": "bQySsvJpxV91",
        "outputId": "5c673b70-cd7c-411c-891d-1f0f4d57f4df"
      },
      "execution_count": 8,
      "outputs": [
        {
          "output_type": "execute_result",
          "data": {
            "text/plain": [
              "(50000, 1, 10)"
            ]
          },
          "metadata": {},
          "execution_count": 8
        }
      ]
    },
    {
      "cell_type": "code",
      "source": [
        "# Distortion ratio\n",
        "distortion_ratio = 0.9\n",
        "\n",
        "# Distort the images\n",
        "distorted_X_train = X_train + np.random.normal(loc=0.0, scale=distortion_ratio, size=X_train.shape)\n",
        "distorted_X_test = X_test + np.random.normal(loc=0.0, scale=distortion_ratio, size=X_test.shape)"
      ],
      "metadata": {
        "id": "svikUb9cfOpr"
      },
      "execution_count": 9,
      "outputs": []
    },
    {
      "cell_type": "code",
      "source": [
        "# Create an array to store the distorted images\n",
        "X_train_distorted = np.concatenate((distorted_X_train, distorted_X_test))"
      ],
      "metadata": {
        "id": "rLJ8frEHfoDY"
      },
      "execution_count": 10,
      "outputs": []
    },
    {
      "cell_type": "code",
      "source": [
        "type(X_train_distorted)"
      ],
      "metadata": {
        "colab": {
          "base_uri": "https://localhost:8080/"
        },
        "id": "ZhmTGXgafwp3",
        "outputId": "9bd8d200-a067-45a2-df9a-9a25a6cb1e3c"
      },
      "execution_count": 11,
      "outputs": [
        {
          "output_type": "execute_result",
          "data": {
            "text/plain": [
              "numpy.ndarray"
            ]
          },
          "metadata": {},
          "execution_count": 11
        }
      ]
    },
    {
      "cell_type": "code",
      "source": [
        "# Create a dataframe of array of zeroes as labels for above distorted images\n",
        "y_train_distorted = y_train.copy()\n",
        "# num_distorted_labels = int(y_train.shape[0] * distortion_ratio)\n",
        "# random_indices = np.random.choice(y_train.shape[0], size=60000, replace=False)\n",
        "# y_train_distorted[random_indices] = np.zeros((60000, 10))\n",
        "\n",
        "distorted_y_train = np.zeros((60000, 10))"
      ],
      "metadata": {
        "id": "nxNjjKpSiLHe"
      },
      "execution_count": 16,
      "outputs": []
    },
    {
      "cell_type": "code",
      "source": [
        "y_train_zero = np.zeros_like(y_train)\n",
        "y_test_zero = np.zeros_like(y_test)\n",
        "distorted_y_train = np.concatenate((y_train_zero, y_test_zero), axis=0)"
      ],
      "metadata": {
        "id": "ZXWBOtC_xZxu"
      },
      "execution_count": 22,
      "outputs": []
    },
    {
      "cell_type": "code",
      "source": [
        "# Select 5 random indices\n",
        "random_indices = np.random.choice(X_train_distorted.shape[0], size=5, replace=False)\n",
        "\n",
        "# Display the 5 random distorted images\n",
        "fig, axes = plt.subplots(1, 5, figsize=(15, 3))\n",
        "\n",
        "for i, ax in enumerate(axes):\n",
        "    image = X_train_distorted[random_indices[i]]\n",
        "    label = distorted_y_train[random_indices[i]]\n",
        "    ax.imshow(image)\n",
        "    ax.set_title(f'Label: {label}')\n",
        "    ax.axis('off')\n",
        "\n",
        "plt.show()"
      ],
      "metadata": {
        "colab": {
          "base_uri": "https://localhost:8080/",
          "height": 346
        },
        "id": "Id_0rJl5jLO5",
        "outputId": "7e650a5e-c5eb-4e6f-c9fe-a56653b67195"
      },
      "execution_count": 18,
      "outputs": [
        {
          "output_type": "stream",
          "name": "stderr",
          "text": [
            "WARNING:matplotlib.image:Clipping input data to the valid range for imshow with RGB data ([0..1] for floats or [0..255] for integers).\n",
            "WARNING:matplotlib.image:Clipping input data to the valid range for imshow with RGB data ([0..1] for floats or [0..255] for integers).\n",
            "WARNING:matplotlib.image:Clipping input data to the valid range for imshow with RGB data ([0..1] for floats or [0..255] for integers).\n",
            "WARNING:matplotlib.image:Clipping input data to the valid range for imshow with RGB data ([0..1] for floats or [0..255] for integers).\n",
            "WARNING:matplotlib.image:Clipping input data to the valid range for imshow with RGB data ([0..1] for floats or [0..255] for integers).\n"
          ]
        },
        {
          "output_type": "display_data",
          "data": {
            "text/plain": [
              "<Figure size 1500x300 with 5 Axes>"
            ],
            "image/png": "[encoded data removed]"
          },
          "metadata": {}
        }
      ]
    },
    {
      "cell_type": "code",
      "source": [
        "# Select 5 random indices\n",
        "random_indices = np.random.choice(X_train.shape[0], size=5, replace=False)\n",
        "\n",
        "# Display the 5 random distorted images\n",
        "fig, axes = plt.subplots(1, 5, figsize=(15, 3))\n",
        "\n",
        "for i, ax in enumerate(axes):\n",
        "    image = X_train[random_indices[i]]\n",
        "    label = y_train[random_indices[i]]\n",
        "    ax.imshow(image)\n",
        "    ax.set_title(f'Label: {label}')\n",
        "    ax.axis('off')\n",
        "\n",
        "plt.show()"
      ],
      "metadata": {
        "colab": {
          "base_uri": "https://localhost:8080/",
          "height": 259
        },
        "id": "k6yHM32jjyQ3",
        "outputId": "edaa5cf5-f5d9-4bc5-80d8-f8671b5a9e09"
      },
      "execution_count": 19,
      "outputs": [
        {
          "output_type": "display_data",
          "data": {
            "text/plain": [
              "<Figure size 1500x300 with 5 Axes>"
            ],
            "image/png": "[encoded data removed]"
          },
          "metadata": {}
        }
      ]
    },
    {
      "cell_type": "code",
      "source": [
        "# Define the ratio of distorted images to select\n",
        "ratios = np.arange(0.1, 1.1, 0.1)"
      ],
      "metadata": {
        "id": "0GYlIjp-lcz8"
      },
      "execution_count": 20,
      "outputs": []
    },
    {
      "cell_type": "code",
      "source": [
        "for ratio in ratios:\n",
        "    # Select a subset of the distorted train DataFrame based on the given ratio\n",
        "    num_distorted_images = int(X_train_distorted.shape[0] * ratio)\n",
        "    random_indices = np.random.choice(X_train_distorted.shape[0], size=num_distorted_images, replace=False)\n",
        "    \n",
        "    num_images = int(X_train.shape[0])\n",
        "    original_indices = np.random.choice(X_train.shape[0], size=num_images, replace=False)\n",
        "\n",
        "    distorted_subset_df = X_train_distorted[random_indices]\n",
        "    original_images = X_train[original_indices]\n",
        "\n",
        "    # original_labels = y_train[original_indices]\n",
        "    # y_train_merged = np.zeros((random_indices, 1, 10))\n",
        "\n",
        "    # Merge the distorted subset with the original train DataFrame\n",
        "    merged_X_train = np.concatenate((X_train, distorted_subset_df), axis=0)\n",
        "    merged_y_train = np.concatenate([y_train, distorted_y_train], axis=0)\n",
        "    y_train_2d = np.squeeze(merged_y_train, axis=1)\n",
        "    y_test_new = np.squeeze(y_test, axis=1)\n",
        "\n",
        "    # Shuffle the merged DataFrame\n",
        "    merged_indices = np.arange(merged_X_train.shape[0])\n",
        "    np.random.shuffle(merged_indices)\n",
        "    merged_X_train = merged_X_train[merged_indices]\n",
        "    y_train_2d = y_train_2d[merged_indices]\n",
        "\n",
        "    # Flatten the image arrays\n",
        "    merged_X_train = merged_X_train.reshape(merged_X_train.shape[0], -1)\n",
        "    X_test_flattened = X_test.reshape(X_test.shape[0], -1)\n",
        "\n",
        "    # Train your MLP model or perform any desired operations here\n",
        "    # Fit a regular MLP classifier\n",
        "    mlp = MLPClassifier(hidden_layer_sizes=(10,8), activation='relu', solver='adam')\n",
        "    mlp.fit(merged_X_train, y_train_2d)\n",
        "    # Accuracy Score\n",
        "    test_acc = mlp.score(merged_X_train, y_train_2d)\n",
        "    # print(mlp.score(merged_X_train, y_train_2d))\n",
        "    print(f\"Test accuracy with original_ratio={ratio}: {test_acc}\")\n",
        "\n",
        "    # predictions\n",
        "    pred = mlp.predict(X_test_flattened)\n",
        "    print(confusion_matrix(y_test_new.argmax(axis=1), pred.argmax(axis=1)))\n",
        "    print(classification_report(y_test_new.argmax(axis=1), pred.argmax(axis=1)))\n",
        "    print(\"--------------------------------------------------\")\n"
      ],
      "metadata": {
        "colab": {
          "base_uri": "https://localhost:8080/"
        },
        "id": "4yuLvXuplC1P",
        "outputId": "134d7266-8572-4fd9-9fdd-c0d2bc992f90"
      },
      "execution_count": null,
      "outputs": [
        {
          "output_type": "stream",
          "name": "stderr",
          "text": [
            "/usr/local/lib/python3.10/dist-packages/sklearn/neural_network/_multilayer_perceptron.py:686: ConvergenceWarning: Stochastic Optimizer: Maximum iterations (200) reached and the optimization hasn't converged yet.\n",
            "  warnings.warn(\n"
          ]
        },
        {
          "output_type": "stream",
          "name": "stdout",
          "text": [
            "Test accuracy with original_ratio=0.1: 0.22373214285714285\n",
            "[[875  15   0   0   0   0   1   9  87  13]\n",
            " [564 344   0   0   0   0   8   6  12  66]\n",
            " [925  12   0   0   0   4  12  30  12   5]\n",
            " [919  17   0   0   0  29  13  13   6   3]\n",
            " [940   5   0   0   0   3  20  25   3   4]\n",
            " [907  14   0   0   0  45   7  19   5   3]\n",
            " [892  10   0   0   0   8  83   1   3   3]\n",
            " [768   5   0   0   0   5   2 188   4  28]\n",
            " [786  26   0   0   0   0   1   0 157  30]\n",
            " [658 115   0   0   0   1   2   7  10 207]]\n",
            "              precision    recall  f1-score   support\n",
            "\n",
            "           0       0.11      0.88      0.19      1000\n",
            "           1       0.61      0.34      0.44      1000\n",
            "           2       0.00      0.00      0.00      1000\n",
            "           3       0.00      0.00      0.00      1000\n",
            "           4       0.00      0.00      0.00      1000\n",
            "           5       0.47      0.04      0.08      1000\n",
            "           6       0.56      0.08      0.14      1000\n",
            "           7       0.63      0.19      0.29      1000\n",
            "           8       0.53      0.16      0.24      1000\n",
            "           9       0.57      0.21      0.30      1000\n",
            "\n",
            "    accuracy                           0.19     10000\n",
            "   macro avg       0.35      0.19      0.17     10000\n",
            "weighted avg       0.35      0.19      0.17     10000\n",
            "\n",
            "--------------------------------------------------\n"
          ]
        },
        {
          "output_type": "stream",
          "name": "stderr",
          "text": [
            "/usr/local/lib/python3.10/dist-packages/sklearn/metrics/_classification.py:1344: UndefinedMetricWarning: Precision and F-score are ill-defined and being set to 0.0 in labels with no predicted samples. Use `zero_division` parameter to control this behavior.\n",
            "  _warn_prf(average, modifier, msg_start, len(result))\n",
            "/usr/local/lib/python3.10/dist-packages/sklearn/metrics/_classification.py:1344: UndefinedMetricWarning: Precision and F-score are ill-defined and being set to 0.0 in labels with no predicted samples. Use `zero_division` parameter to control this behavior.\n",
            "  _warn_prf(average, modifier, msg_start, len(result))\n",
            "/usr/local/lib/python3.10/dist-packages/sklearn/metrics/_classification.py:1344: UndefinedMetricWarning: Precision and F-score are ill-defined and being set to 0.0 in labels with no predicted samples. Use `zero_division` parameter to control this behavior.\n",
            "  _warn_prf(average, modifier, msg_start, len(result))\n"
          ]
        },
        {
          "output_type": "stream",
          "name": "stdout",
          "text": [
            "Test accuracy with original_ratio=0.2: 0.22219354838709676\n",
            "[[932   3   0   0   0   0   0   9  52   4]\n",
            " [858 109   0   0   0   0   0   1   2  30]\n",
            " [969   2   0   0   0   0   0  18  11   0]\n",
            " [991   5   0   0   0   0   0   2   0   2]\n",
            " [979   1   0   0   0   0   0  16   4   0]\n",
            " [991   0   0   0   0   0   0   7   0   2]\n",
            " [998   0   0   0   0   0   0   2   0   0]\n",
            " [879   1   0   0   0   0   0 111   1   8]\n",
            " [926  10   0   0   0   0   0   0  58   6]\n",
            " [904  32   0   0   0   0   0   1   1  62]]\n",
            "              precision    recall  f1-score   support\n",
            "\n",
            "           0       0.10      0.93      0.18      1000\n",
            "           1       0.67      0.11      0.19      1000\n",
            "           2       0.00      0.00      0.00      1000\n",
            "           3       0.00      0.00      0.00      1000\n",
            "           4       0.00      0.00      0.00      1000\n",
            "           5       0.00      0.00      0.00      1000\n",
            "           6       0.00      0.00      0.00      1000\n",
            "           7       0.66      0.11      0.19      1000\n",
            "           8       0.45      0.06      0.10      1000\n",
            "           9       0.54      0.06      0.11      1000\n",
            "\n",
            "    accuracy                           0.13     10000\n",
            "   macro avg       0.24      0.13      0.08     10000\n",
            "weighted avg       0.24      0.13      0.08     10000\n",
            "\n",
            "--------------------------------------------------\n"
          ]
        },
        {
          "output_type": "stream",
          "name": "stderr",
          "text": [
            "/usr/local/lib/python3.10/dist-packages/sklearn/metrics/_classification.py:1344: UndefinedMetricWarning: Precision and F-score are ill-defined and being set to 0.0 in labels with no predicted samples. Use `zero_division` parameter to control this behavior.\n",
            "  _warn_prf(average, modifier, msg_start, len(result))\n",
            "/usr/local/lib/python3.10/dist-packages/sklearn/metrics/_classification.py:1344: UndefinedMetricWarning: Precision and F-score are ill-defined and being set to 0.0 in labels with no predicted samples. Use `zero_division` parameter to control this behavior.\n",
            "  _warn_prf(average, modifier, msg_start, len(result))\n",
            "/usr/local/lib/python3.10/dist-packages/sklearn/metrics/_classification.py:1344: UndefinedMetricWarning: Precision and F-score are ill-defined and being set to 0.0 in labels with no predicted samples. Use `zero_division` parameter to control this behavior.\n",
            "  _warn_prf(average, modifier, msg_start, len(result))\n",
            "/usr/local/lib/python3.10/dist-packages/sklearn/neural_network/_multilayer_perceptron.py:686: ConvergenceWarning: Stochastic Optimizer: Maximum iterations (200) reached and the optimization hasn't converged yet.\n",
            "  warnings.warn(\n"
          ]
        }
      ]
    },
    {
      "cell_type": "code",
      "source": [],
      "metadata": {
        "id": "pEWbxwqZlsWD"
      },
      "execution_count": null,
      "outputs": []
    }
  ]
}